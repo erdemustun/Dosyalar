{
  "cells": [
    {
      "cell_type": "markdown",
      "metadata": {
        "id": "view-in-github",
        "colab_type": "text"
      },
      "source": [
        "<a href=\"https://colab.research.google.com/github/erdemustun/Dosyalar/blob/main/FiyatKanalBreakout.ipynb\" target=\"_parent\"><img src=\"https://colab.research.google.com/assets/colab-badge.svg\" alt=\"Open In Colab\"/></a>"
      ]
    },
    {
      "cell_type": "code",
      "source": [
        "!pip install --upgrade --no-cache-dir git+https://github.com/rongardF/tvdatafeed.git\n",
        "!pip install tradingview-screener\n",
        "!pip install retrying\n"
      ],
      "metadata": {
        "id": "64YHHoODFrMV"
      },
      "id": "64YHHoODFrMV",
      "execution_count": null,
      "outputs": []
    },
    {
      "cell_type": "code",
      "source": [
        "import numpy as np\n",
        "import pandas as pd\n",
        "import datetime\n",
        "import time\n",
        "import pytz\n",
        "from tabulate import tabulate\n",
        "pd.options.mode.chained_assignment = None\n",
        "from tvDatafeed import TvDatafeed, Interval\n",
        "tv = TvDatafeed()\n",
        "from tradingview_screener import Query, Column\n",
        "# from Tablo_RenderEt import render_mpl_table\n",
        "# import send_to_telegram as tm #telegrama göndermek için\n",
        "import linecache\n",
        "import sys\n",
        "import traceback\n",
        "import subprocess # bash script komut gondermek\n",
        "from retrying import retry\n",
        "from tradingview_screener import Query, Column\n",
        "from google.colab import files\n",
        "import plotly.graph_objects as go\n",
        "from scipy import stats"
      ],
      "metadata": {
        "colab": {
          "base_uri": "https://localhost:8080/"
        },
        "id": "scJck3QnF1ib",
        "outputId": "c93512d2-a271-416e-d18b-821a037e4274"
      },
      "id": "scJck3QnF1ib",
      "execution_count": 30,
      "outputs": [
        {
          "output_type": "stream",
          "name": "stderr",
          "text": [
            "WARNING:tvDatafeed.main:you are using nologin method, data you access may be limited\n"
          ]
        }
      ]
    },
    {
      "cell_type": "code",
      "source": [
        "@retry(wait_fixed=4000, stop_max_attempt_number=3) # Hata olması halinde 4 sn bekleyip tekrar deneyecek, 3 kez deneyecek\n",
        "def veri_getir(symbol,intervald):\n",
        "    return tv.get_hist(symbol=symbol, exchange='BIST', interval=intervald, n_bars=365)\n",
        "\n",
        "#Hataları ve hangi satırda olduğunu bulmak için\n",
        "def PrintException():\n",
        "    exc_type, exc_obj, tb = sys.exc_info()\n",
        "    f = tb.tb_frame\n",
        "    lineno = tb.tb_lineno\n",
        "    filename = f.f_code.co_filename\n",
        "    linecache.checkcache(filename)\n",
        "    line = linecache.getline(filename, lineno, f.f_globals)\n",
        "    print( 'Hata ({}, Satir: {} \"{}\"): {}'.format(filename, lineno, line.strip(), exc_obj))\n",
        "\n",
        "# Zaman bilgisini alıp DataFrame'e ekleme (GMT+3)\n",
        "time_zone = pytz.timezone('Europe/Istanbul')\n",
        "dt = datetime.datetime.now(time_zone)\n",
        "gun = dt.isoweekday()\n",
        "saat = dt.hour\n",
        "#dakika = dt.minute"
      ],
      "metadata": {
        "id": "eEiVRJC5GIvd"
      },
      "id": "eEiVRJC5GIvd",
      "execution_count": 38,
      "outputs": []
    },
    {
      "cell_type": "code",
      "source": [
        "#Hisseler = get_all_symbols(market='turkey') #Yurtdışı borsalar için  fon ve ba şka senteler geliyordu.\n",
        "piyasa= 'turkey'\n",
        "#piyasa= 'germany'\n",
        "#piyasa= 'america'\n",
        "options = ['stock']  #['stock', 'fund','dr']\n",
        "#Burada tupple dönüyor\n",
        "HisseAd_Sorgu = (Query().set_markets(f'{piyasa}')\n",
        "                .select('name', 'type')\n",
        "                .where(Column('type').isin(options) #(['stock', 'fund'])\n",
        "                    )\n",
        "                .limit(20000) #deault değeri 50 olduğu için hepsini getirmiyor.Onu aşmak için yüksek değer koydum.\n",
        "                .order_by('name')\n",
        "                .get_scanner_data())[1]\n",
        "\n",
        "#HisseAd_Sorgu dataframe dönüştür\n",
        "HisseAd = pd.DataFrame(HisseAd_Sorgu, columns=['ticker', 'name', 'type'])\n",
        "#Listeye dönüştür\n",
        "Hisseler = HisseAd['ticker'].tolist()\n",
        "\n",
        "#Hisseler = [symbol.replace('BIST:', '') for symbol in Hisseler]\n",
        "\n",
        "# Dışarıdan eklemek istediğiniz endeks sembolleri\n",
        "endeksler = ['XU030','XU100','XINSA','XBLSM','XUTEK','XGMYO','XHOLD','XFINK','XSGRT','XBANK','XUMAL','XILTM','XTRZM','XULAS','XELKT','XUHIZ','XMESY','XMANA','XTAST','XKMYA','XKAGT','XTEKS','XGIDA','XUSIN','XMADN']\n",
        "Hisseler.extend(endeksler)\n",
        "Hisseler = sorted(Hisseler)\n",
        "Hisseler = [symbol.replace('BIST:', '') for symbol in Hisseler]\n",
        "\n",
        "bist_hisseler=Hisseler"
      ],
      "metadata": {
        "id": "flEm1_tFGbCb"
      },
      "id": "flEm1_tFGbCb",
      "execution_count": 21,
      "outputs": []
    },
    {
      "cell_type": "code",
      "source": [
        "\n",
        "# Periyot belirleme\n",
        "if gun == 7:  # Pazar\n",
        "    periyot = 'H'  # Haftalık\n",
        "    # if saat == 9:  # Sadece saat 10'da çalışsın\n",
        "    #     periyot = 'H'  # Haftalık\n",
        "    # else:\n",
        "    #    #print(\"Pazar günü sadece saat 10'da çalışır.\")\n",
        "    #     sys.exit()\n",
        "elif gun < 6:  # Pazartesi-Cuma\n",
        "    if saat == 9:\n",
        "        periyot = 'G'  # Günlük\n",
        "    else:\n",
        "        periyot = 'S'  # Saatlik\n",
        "else:  # Cumartesi\n",
        "    #print(\"Bu script Pazartesi-Cuma ve Pazar (saat 10'da) günleri çalışır.\")\n",
        "    sys.exit()\n",
        "\n",
        "\n",
        "if periyot=='H':\n",
        "    period='7y'\n",
        "    intervald=Interval.in_weekly\n",
        "    dosya='Haftalik'\n",
        "elif periyot=='G':\n",
        "    period='2y'\n",
        "    intervald=Interval.in_daily\n",
        "    dosya='Gunluk'\n",
        "elif periyot=='S':\n",
        "    period='1y'\n",
        "    intervald=Interval.in_1_hour\n",
        "    dosya='Saatlik'\n",
        "elif periyot=='4S':\n",
        "    period='1y'\n",
        "    intervald=Interval.in_4_hour\n",
        "    dosya='4Saatlik'\n",
        "elif periyot=='D':\n",
        "    period='15d'\n",
        "    intervald=Interval.in_15_minute\n",
        "    dosya='15dakikalık'\n",
        "else:\n",
        "    print('Hatalı girdi')"
      ],
      "metadata": {
        "id": "jCwb7M4vGhqw"
      },
      "id": "jCwb7M4vGhqw",
      "execution_count": 22,
      "outputs": []
    },
    {
      "cell_type": "code",
      "source": [
        "data=veri_getir('KCHOL',intervald)"
      ],
      "metadata": {
        "id": "dQWnLvjoG1oG"
      },
      "id": "dQWnLvjoG1oG",
      "execution_count": 39,
      "outputs": []
    },
    {
      "cell_type": "code",
      "source": [
        "# Tarih sütununu oluştur\n",
        "data['Tarih'] = data.index\n",
        "\n",
        "# Index'i sıfırla\n",
        "data = data.reset_index(drop=True)\n",
        "\n",
        "# OHLC sütunlarının adını ilk harfi büyük olacak şekilde değiştir\n",
        "data = data.rename(columns={\n",
        "    'open': 'Open',\n",
        "    'high': 'High',\n",
        "    'low': 'Low',\n",
        "    'close': 'Close',\n",
        "    'volume': 'Volume'\n",
        "})\n",
        "data['symbol'] = data['symbol'].str.replace('BIST:', '', regex=False)\n"
      ],
      "metadata": {
        "id": "MSftydvcHDRY"
      },
      "id": "MSftydvcHDRY",
      "execution_count": 40,
      "outputs": []
    },
    {
      "cell_type": "code",
      "source": [
        "df=data.copy()"
      ],
      "metadata": {
        "id": "U87fGwtrH3oq"
      },
      "id": "U87fGwtrH3oq",
      "execution_count": 41,
      "outputs": []
    },
    {
      "cell_type": "markdown",
      "id": "696c10a4",
      "metadata": {
        "id": "696c10a4"
      },
      "source": [
        "# Channel Break Out Detection"
      ]
    },
    {
      "cell_type": "markdown",
      "id": "34d9cf7d",
      "metadata": {
        "id": "34d9cf7d"
      },
      "source": [
        "## Detect Pivots/Fractals"
      ]
    },
    {
      "cell_type": "code",
      "execution_count": 3,
      "id": "540f55e6",
      "metadata": {
        "id": "540f55e6"
      },
      "outputs": [],
      "source": [
        "def isPivot(candle, window):\n",
        "    \"\"\"\n",
        "    function that detects if a candle is a pivot/fractal point\n",
        "    args: candle index, window before and after candle to test if pivot\n",
        "    returns: 1 if pivot high, 2 if pivot low, 3 if both and 0 default\n",
        "    \"\"\"\n",
        "    if candle-window < 0 or candle+window >= len(df):\n",
        "        return 0\n",
        "\n",
        "    pivotHigh = 1\n",
        "    pivotLow = 2\n",
        "    for i in range(candle-window, candle+window+1):\n",
        "        if df.iloc[candle].Low > df.iloc[i].Low:\n",
        "            pivotLow=0\n",
        "        if df.iloc[candle].High < df.iloc[i].High:\n",
        "            pivotHigh=0\n",
        "    if (pivotHigh and pivotLow):\n",
        "        return 3\n",
        "    elif pivotHigh:\n",
        "        return pivotHigh\n",
        "    elif pivotLow:\n",
        "        return pivotLow\n",
        "    else:\n",
        "        return 0\n",
        ""
      ]
    },
    {
      "cell_type": "code",
      "execution_count": 58,
      "id": "a2dfb53b",
      "metadata": {
        "id": "a2dfb53b"
      },
      "outputs": [],
      "source": [
        "window=10 #Dip/Tepeyi mumun sagında/solunda kaç muma bakacağız. 3 orijinali,ne çok az ne çok fazla\n",
        "df['isPivot'] = df.apply(lambda x: isPivot(x.name,window), axis=1)"
      ]
    },
    {
      "cell_type": "code",
      "execution_count": 59,
      "id": "c8c29fe7",
      "metadata": {
        "id": "c8c29fe7"
      },
      "outputs": [],
      "source": [
        "def pointpos(x):\n",
        "    if x['isPivot']==2:\n",
        "        return x['Low']-1e-3\n",
        "    elif x['isPivot']==1:\n",
        "        return x['High']+1e-3\n",
        "    else:\n",
        "        return np.nan\n",
        "df['pointpos'] = df.apply(lambda row: pointpos(row), axis=1)"
      ]
    },
    {
      "cell_type": "code",
      "execution_count": 60,
      "id": "ee61bcd1",
      "metadata": {
        "colab": {
          "base_uri": "https://localhost:8080/",
          "height": 542
        },
        "id": "ee61bcd1",
        "outputId": "089d904a-9d1e-42b0-fffb-4e956069a03f"
      },
      "outputs": [
        {
          "output_type": "display_data",
          "data": {
            "text/html": [
              "<html>\n",
              "<head><meta charset=\"utf-8\" /></head>\n",
              "<body>\n",
              "    <div>            <script src=\"https://cdnjs.cloudflare.com/ajax/libs/mathjax/2.7.5/MathJax.js?config=TeX-AMS-MML_SVG\"></script><script type=\"text/javascript\">if (window.MathJax && window.MathJax.Hub && window.MathJax.Hub.Config) {window.MathJax.Hub.Config({SVG: {font: \"STIX-Web\"}});}</script>                <script type=\"text/javascript\">window.PlotlyConfig = {MathJaxConfig: 'local'};</script>\n",
              "        <script charset=\"utf-8\" src=\"https://cdn.plot.ly/plotly-2.35.2.min.js\"></script>                <div id=\"305f6f16-d5dc-4417-9537-de0a5816fdc9\" class=\"plotly-graph-div\" style=\"height:525px; width:100%;\"></div>            <script type=\"text/javascript\">                                    window.PLOTLYENV=window.PLOTLYENV || {};                                    if (document.getElementById(\"305f6f16-d5dc-4417-9537-de0a5816fdc9\")) {                    Plotly.newPlot(                        \"305f6f16-d5dc-4417-9537-de0a5816fdc9\",                        [{\"close\":[159.3,157.7,153.8,153.6,153.6,158.0,160.7,159.5,159.2,154.9,157.0,158.7,156.7,163.1,162.6,165.0,164.5,164.7,169.3,168.1,169.8,168.1,169.3,170.5,170.4,168.4,166.4,167.6,166.6,165.2,165.2,163.5,165.0,165.8,165.5,167.9,166.4,164.9,164.4,162.6,162.8,161.7,161.2,161.7,161.3,160.8,159.5,160.0,160.4,160.5,161.9,161.8,162.8,163.1,163.6,162.6,163.1,161.9,161.7,160.9,161.1,161.2,161.7,160.9,160.4,160.3,161.4,161.1,161.7,162.4,161.6,160.7,161.9,162.7,162.6,162.9,164.3,164.9,163.8,162.3,161.0,162.2,161.2,160.6,160.6,154.2,154.6,154.7,154.0,154.2,154.5,157.2,158.1,158.1,158.4,161.0,159.8,158.9,158.8,159.3,159.8,159.7,160.7,160.1,160.0,158.4,158.5,157.8,157.7,157.1,155.2,155.2,155.7,154.6,154.3,155.4,152.8,153.1,152.8,152.6,152.3,152.5,150.4,149.0,149.5,150.0,147.5,146.9,147.5,147.9,147.2,147.3,147.1,147.5,147.6,148.7,148.4,148.4,148.3,148.2,147.6,147.7,147.6,147.0,146.9,147.1,146.8,146.8,146.2,145.2,145.3,144.9,143.7,143.5,143.2,143.0,140.6,140.7,140.4,140.5,139.8,139.5,139.3,139.5,139.1,139.6,140.5,139.8,139.7,139.5,136.9,143.5,144.0,143.1,143.6,145.2,144.3,146.3,146.9,147.0,144.0,145.1,145.4,143.1,143.2,147.0,145.7,146.3,146.6,146.4,148.1,153.7,153.1,150.6,150.5,151.5,147.0,147.5,147.2,146.5,145.6,146.0,145.2,145.0,145.2,145.5,142.9,143.0,143.0,143.9,144.7,145.5,145.8,146.8,147.1,147.6,147.1,147.0,147.0,146.5,146.2,145.4,145.6,145.7,145.5,145.4,144.5,144.2,143.7,142.6,144.4,145.4,145.6,144.4,144.3,143.5,143.4,142.0,142.5,142.0,142.0,142.2,140.8,141.2,140.7,140.7,138.5,138.7,138.6,138.4,139.4,139.3,138.2,137.6,137.7,137.7,137.8,138.1,139.1,138.4,138.7,139.2,139.0,138.3,138.4,139.5,136.6,136.0,135.7,135.6,135.0,135.9,135.4,135.1,135.0,135.0,134.2,138.1,136.1,136.3,135.8,136.0,134.7,135.0,135.4,135.4,136.4,136.5,137.2,138.6,138.7,137.8,137.4,137.0,137.2,138.0,136.9,139.2,139.9,140.0,140.9,140.4,140.3,140.7,140.7,140.2,140.1,139.3,140.0,141.1,142.2,142.6,142.8,143.8,143.9,148.5,149.1,152.6,152.0,151.7,151.9,153.3,153.5,154.1,154.0,152.9,153.9,154.1,153.7,153.9,154.2,153.5,153.9,154.6,154.5,153.8,156.7,155.3,154.6,155.2,154.7,153.8,155.4,154.4,154.0,154.1,152.8,151.9,150.9,151.6,151.5,150.7,148.7,148.4,148.4,149.0,151.0,151.7,151.8,151.9,153.9,154.1,155.6,158.7,159.0],\"high\":[163.6,160.4,157.7,155.8,153.6,158.0,161.9,161.7,160.0,159.4,157.2,159.2,159.5,163.2,162.6,165.0,167.0,165.2,170.0,169.5,171.2,169.9,169.9,171.2,170.4,168.4,168.8,167.7,168.0,166.8,165.7,165.3,165.7,167.5,165.5,167.9,168.2,166.4,165.1,164.4,163.8,162.9,162.7,162.4,161.3,160.8,161.1,160.5,160.5,160.8,162.0,162.6,163.6,164.1,163.6,162.6,164.2,163.1,162.5,161.8,161.4,161.4,161.9,162.2,160.6,160.3,162.8,161.6,161.9,162.4,162.4,162.7,162.4,164.1,162.6,162.9,165.0,165.0,164.9,164.3,162.8,162.2,162.4,161.5,160.6,154.2,155.0,155.2,154.8,155.3,155.2,158.2,158.7,161.2,158.4,161.0,161.4,159.9,159.3,160.1,160.1,160.4,160.9,160.9,160.0,158.4,159.0,158.7,158.0,157.9,157.2,155.7,156.0,156.3,154.6,155.4,155.5,153.7,153.5,153.3,152.8,153.0,152.8,150.7,149.5,150.0,150.1,147.6,147.5,148.2,148.0,147.7,148.3,147.6,147.6,148.7,149.4,148.6,148.6,148.5,148.4,147.9,147.9,147.9,146.9,147.1,147.4,146.8,146.8,146.3,145.6,145.4,145.1,144.1,143.2,143.0,143.5,141.0,141.5,140.7,140.5,140.0,139.8,139.7,139.1,139.6,140.8,140.5,140.0,139.7,139.6,145.4,144.8,146.8,143.6,145.2,145.2,147.3,148.1,147.7,147.0,145.3,145.9,145.7,143.2,147.0,147.0,146.9,147.4,147.2,148.5,153.9,154.9,153.1,150.6,151.5,151.7,148.4,147.9,147.4,146.8,146.1,146.7,146.4,145.2,145.5,146.7,144.3,143.5,144.4,145.4,145.7,146.6,147.8,147.1,147.6,148.2,147.5,147.6,147.4,147.1,146.3,146.4,146.6,145.7,145.4,146.2,144.7,144.5,143.7,144.6,145.9,146.4,146.2,144.3,143.5,144.7,143.4,142.8,142.5,142.2,142.4,142.2,141.3,140.7,140.7,142.0,139.1,138.7,138.8,139.4,139.9,139.4,138.4,137.7,137.7,138.4,138.3,139.3,139.5,138.8,139.2,139.8,139.3,138.4,139.5,140.3,136.7,136.1,135.8,135.7,135.9,136.1,135.7,135.1,135.0,135.1,138.3,138.5,136.7,136.3,136.3,136.1,136.2,135.4,135.4,138.1,138.0,137.6,138.7,139.4,139.1,137.8,137.4,137.2,138.0,139.2,139.5,140.4,140.3,140.9,143.4,140.9,141.6,140.7,140.2,141.0,140.1,140.2,142.0,142.8,143.7,144.6,143.9,143.9,148.5,149.6,153.4,153.2,152.1,152.6,153.6,153.5,154.8,154.0,152.9,154.3,154.3,154.8,154.1,154.3,154.7,155.0,155.3,154.5,153.8,156.9,157.4,155.5,155.2,155.8,154.9,156.1,155.8,154.4,154.1,155.2,153.0,152.0,152.0,152.0,151.7,151.0,149.2,148.4,149.0,152.4,152.3,153.0,152.1,154.3,154.7,156.5,159.5,159.0],\"low\":[158.1,157.3,153.3,151.6,153.6,158.0,157.0,159.3,158.4,154.8,153.2,156.1,155.8,156.5,162.6,165.0,163.0,163.6,164.7,167.5,167.2,166.9,167.5,169.1,170.4,168.4,166.0,166.2,166.2,165.0,164.5,163.2,163.3,164.6,165.5,167.9,166.2,164.4,164.1,162.2,162.5,161.6,161.1,160.6,161.3,160.8,159.1,159.3,159.7,159.9,159.9,161.1,161.5,162.1,163.6,162.6,161.0,161.6,161.4,160.9,160.8,160.8,160.6,160.6,160.4,160.3,160.1,160.8,160.9,161.6,161.0,160.6,160.5,161.5,162.6,162.9,162.7,164.0,163.3,161.9,159.9,160.8,160.7,160.6,160.6,154.2,153.2,154.2,153.7,153.9,153.9,154.1,156.3,156.2,158.4,161.0,159.4,158.5,158.6,158.0,158.8,159.2,159.3,160.0,160.0,158.4,157.7,157.2,157.6,156.9,154.9,154.9,154.9,154.5,154.3,155.4,152.2,152.6,152.6,152.4,152.0,152.2,150.4,148.8,149.1,150.0,147.4,146.5,146.6,147.0,146.5,147.0,146.7,146.8,147.6,148.7,148.1,147.8,148.0,148.1,147.5,147.1,147.5,146.8,146.9,147.1,146.5,146.3,146.0,145.0,145.0,144.5,143.6,143.2,143.2,143.0,140.5,139.8,140.2,140.1,139.5,139.1,138.9,138.8,139.1,139.6,139.2,139.7,139.5,139.1,136.6,136.5,141.9,143.1,143.6,145.2,141.9,144.2,145.2,146.6,143.8,143.6,144.8,142.8,143.2,147.0,144.2,145.1,146.2,146.1,146.1,148.0,151.7,149.1,150.5,151.5,146.9,146.5,146.8,146.3,145.4,144.9,145.1,145.0,145.2,145.5,142.8,142.4,142.7,143.0,143.9,143.8,144.8,145.5,147.1,147.6,146.1,146.3,146.6,146.4,145.9,145.2,145.3,144.7,145.5,145.4,143.0,143.7,143.0,141.8,142.5,144.3,145.4,144.2,144.3,143.5,142.7,141.8,141.6,141.9,141.7,141.6,140.6,139.8,140.7,140.7,138.2,138.4,138.3,138.0,137.9,139.1,137.9,137.4,137.6,137.7,137.2,137.8,137.6,138.0,138.2,138.5,138.6,138.0,138.4,139.5,136.3,135.5,135.5,135.2,134.9,134.8,135.3,135.0,135.0,135.0,133.7,134.0,135.8,135.9,134.8,134.9,134.4,134.3,135.4,135.4,134.8,136.1,136.4,137.1,138.2,137.7,135.9,136.2,137.2,138.0,136.3,136.9,138.3,139.4,139.0,139.9,139.7,140.1,140.7,140.2,139.1,138.8,139.2,139.5,140.9,142.0,142.3,142.0,143.8,148.5,147.1,148.9,151.8,151.6,151.5,151.6,152.5,152.8,154.0,152.9,151.1,153.4,153.6,153.5,153.3,153.4,153.1,153.8,154.5,153.8,153.4,155.1,153.9,154.4,154.5,153.5,153.6,154.0,154.0,154.1,152.0,151.1,150.7,150.7,150.8,150.4,148.6,148.1,148.4,149.0,148.4,150.7,151.5,151.3,151.7,153.4,153.9,155.4,159.0],\"open\":[162.5,159.4,157.6,153.8,153.6,158.0,158.1,160.7,159.5,159.1,154.8,157.0,158.6,156.6,162.6,165.0,165.1,164.6,164.8,169.3,168.2,169.7,168.2,169.3,170.4,168.4,168.3,166.4,167.7,166.6,165.2,165.1,163.6,164.9,165.5,167.9,167.8,166.3,164.9,164.4,162.5,162.8,161.7,161.2,161.3,160.8,160.7,159.6,160.0,160.5,160.5,162.0,161.7,162.7,163.6,162.6,162.5,163.1,161.8,161.7,161.0,161.0,161.3,161.7,160.6,160.3,160.3,161.5,161.0,161.7,162.3,161.5,160.6,161.8,162.6,162.9,162.8,164.3,164.9,163.8,162.4,161.1,162.1,161.1,160.6,154.2,154.5,154.5,154.7,154.1,154.2,154.5,157.3,158.2,158.4,161.0,161.0,159.8,158.8,158.7,159.3,159.8,159.7,160.7,160.0,158.4,158.3,158.5,157.8,157.7,157.1,155.1,155.2,155.8,154.6,155.4,155.4,152.7,153.1,152.9,152.5,152.3,152.5,150.5,149.1,150.0,150.0,147.5,146.9,147.5,147.9,147.2,147.4,147.2,147.6,148.7,148.7,148.4,148.4,148.3,148.3,147.6,147.7,147.7,146.9,147.1,147.2,146.8,146.8,146.1,145.2,145.4,144.9,143.6,143.2,143.0,142.9,140.6,140.7,140.4,140.5,139.9,139.5,139.4,139.1,139.6,139.6,140.5,139.8,139.7,139.5,136.9,143.4,143.9,143.6,145.2,145.1,144.3,146.2,146.9,146.9,143.9,145.1,145.4,143.2,147.0,146.9,145.8,146.3,146.5,146.5,148.1,153.7,153.0,150.6,151.5,151.5,146.9,147.5,147.2,146.4,145.6,146.0,145.2,145.2,145.5,145.5,142.9,143.0,143.1,144.0,144.8,145.5,145.8,147.1,147.6,147.6,147.1,147.0,147.0,146.4,146.2,145.3,145.6,145.7,145.4,145.4,144.4,144.3,143.7,142.7,144.4,145.4,145.6,144.3,143.5,143.5,143.4,142.1,142.4,142.1,141.9,142.1,140.8,140.7,140.7,140.7,138.5,138.6,138.6,138.5,139.4,139.3,138.2,137.6,137.7,137.7,137.8,138.2,139.1,138.3,138.6,139.2,139.1,138.4,139.5,139.5,136.6,135.9,135.7,135.6,135.1,135.8,135.5,135.1,135.0,135.0,134.3,138.0,136.1,136.3,135.8,136.0,134.6,135.4,135.4,135.5,136.4,136.5,137.1,138.6,138.7,137.8,137.4,137.2,138.0,138.1,136.9,139.2,140.0,139.9,140.8,140.3,140.2,140.7,140.2,140.2,140.1,139.2,140.0,141.1,142.2,142.5,142.7,143.8,148.5,148.5,149.1,152.6,152.0,151.7,151.9,153.3,153.5,154.0,152.9,152.8,154.0,154.1,153.7,153.8,154.1,153.6,153.8,154.5,153.8,153.8,156.6,155.3,154.6,155.2,154.7,153.8,155.3,154.4,154.1,154.2,152.9,151.9,150.9,151.5,151.5,150.6,148.7,148.4,149.0,149.1,151.1,151.8,151.9,151.9,154.0,154.1,155.5,159.0],\"x\":[0,1,2,3,4,5,6,7,8,9,10,11,12,13,14,15,16,17,18,19,20,21,22,23,24,25,26,27,28,29,30,31,32,33,34,35,36,37,38,39,40,41,42,43,44,45,46,47,48,49,50,51,52,53,54,55,56,57,58,59,60,61,62,63,64,65,66,67,68,69,70,71,72,73,74,75,76,77,78,79,80,81,82,83,84,85,86,87,88,89,90,91,92,93,94,95,96,97,98,99,100,101,102,103,104,105,106,107,108,109,110,111,112,113,114,115,116,117,118,119,120,121,122,123,124,125,126,127,128,129,130,131,132,133,134,135,136,137,138,139,140,141,142,143,144,145,146,147,148,149,150,151,152,153,154,155,156,157,158,159,160,161,162,163,164,165,166,167,168,169,170,171,172,173,174,175,176,177,178,179,180,181,182,183,184,185,186,187,188,189,190,191,192,193,194,195,196,197,198,199,200,201,202,203,204,205,206,207,208,209,210,211,212,213,214,215,216,217,218,219,220,221,222,223,224,225,226,227,228,229,230,231,232,233,234,235,236,237,238,239,240,241,242,243,244,245,246,247,248,249,250,251,252,253,254,255,256,257,258,259,260,261,262,263,264,265,266,267,268,269,270,271,272,273,274,275,276,277,278,279,280,281,282,283,284,285,286,287,288,289,290,291,292,293,294,295,296,297,298,299,300,301,302,303,304,305,306,307,308,309,310,311,312,313,314,315,316,317,318,319,320,321,322,323,324,325,326,327,328,329,330,331,332,333,334,335,336,337,338,339,340,341,342,343,344,345,346,347,348,349,350,351,352,353,354,355,356,357,358,359,360,361,362,363,364],\"type\":\"candlestick\"},{\"marker\":{\"color\":\"MediumPurple\",\"size\":10},\"mode\":\"markers\",\"name\":\"pivot\",\"x\":[0,1,2,3,4,5,6,7,8,9,10,11,12,13,14,15,16,17,18,19,20,21,22,23,24,25,26,27,28,29,30,31,32,33,34,35,36,37,38,39,40,41,42,43,44,45,46,47,48,49,50,51,52,53,54,55,56,57,58,59,60,61,62,63,64,65,66,67,68,69,70,71,72,73,74,75,76,77,78,79,80,81,82,83,84,85,86,87,88,89,90,91,92,93,94,95,96,97,98,99,100,101,102,103,104,105,106,107,108,109,110,111,112,113,114,115,116,117,118,119,120,121,122,123,124,125,126,127,128,129,130,131,132,133,134,135,136,137,138,139,140,141,142,143,144,145,146,147,148,149,150,151,152,153,154,155,156,157,158,159,160,161,162,163,164,165,166,167,168,169,170,171,172,173,174,175,176,177,178,179,180,181,182,183,184,185,186,187,188,189,190,191,192,193,194,195,196,197,198,199,200,201,202,203,204,205,206,207,208,209,210,211,212,213,214,215,216,217,218,219,220,221,222,223,224,225,226,227,228,229,230,231,232,233,234,235,236,237,238,239,240,241,242,243,244,245,246,247,248,249,250,251,252,253,254,255,256,257,258,259,260,261,262,263,264,265,266,267,268,269,270,271,272,273,274,275,276,277,278,279,280,281,282,283,284,285,286,287,288,289,290,291,292,293,294,295,296,297,298,299,300,301,302,303,304,305,306,307,308,309,310,311,312,313,314,315,316,317,318,319,320,321,322,323,324,325,326,327,328,329,330,331,332,333,334,335,336,337,338,339,340,341,342,343,344,345,346,347,348,349,350,351,352,353,354,355,356,357,358,359,360,361,362,363,364],\"y\":[null,null,null,null,null,null,null,null,null,null,null,null,null,null,null,null,null,null,null,null,171.201,null,null,171.201,null,null,null,null,null,null,null,null,null,null,null,null,null,null,null,null,null,null,null,null,null,null,159.099,null,null,null,null,null,null,null,null,null,164.201,null,null,null,null,null,null,null,null,null,160.099,null,null,null,null,null,null,null,null,null,165.001,165.001,null,null,null,null,null,null,null,null,153.19899999999998,null,null,null,null,null,null,null,null,null,161.401,null,null,null,null,null,null,null,null,null,null,null,null,null,null,null,null,null,null,null,null,null,null,null,null,null,null,null,null,null,null,146.499,null,null,146.499,null,null,null,null,null,null,null,null,null,null,null,null,null,null,null,null,null,null,null,null,null,null,null,null,null,null,null,null,null,null,null,null,null,null,null,null,null,null,null,null,136.499,null,null,null,null,null,null,148.101,null,null,null,null,null,null,null,null,null,null,null,null,null,154.901,null,null,null,null,null,null,null,null,null,null,null,null,null,null,142.399,null,null,null,null,null,null,null,null,148.201,null,null,null,null,null,null,null,null,null,null,null,null,null,null,null,null,null,null,null,null,null,null,null,null,null,null,null,null,null,null,null,null,null,null,null,null,null,null,null,null,null,null,null,null,null,null,null,null,null,140.30100000000002,null,null,null,null,null,null,null,null,null,133.69899999999998,null,138.501,null,null,null,null,null,null,null,null,null,null,null,null,null,null,null,null,null,null,null,null,null,null,null,null,null,null,null,null,null,null,null,null,null,null,null,null,null,null,null,null,null,null,null,null,null,null,null,null,null,null,null,null,null,null,null,null,null,null,157.401,null,null,null,null,null,null,null,null,null,null,null,null,null,null,null,148.099,null,null,null,null,null,null,null,null,null,null,null],\"type\":\"scatter\"}],                        {\"template\":{\"data\":{\"histogram2dcontour\":[{\"type\":\"histogram2dcontour\",\"colorbar\":{\"outlinewidth\":0,\"ticks\":\"\"},\"colorscale\":[[0.0,\"#0d0887\"],[0.1111111111111111,\"#46039f\"],[0.2222222222222222,\"#7201a8\"],[0.3333333333333333,\"#9c179e\"],[0.4444444444444444,\"#bd3786\"],[0.5555555555555556,\"#d8576b\"],[0.6666666666666666,\"#ed7953\"],[0.7777777777777778,\"#fb9f3a\"],[0.8888888888888888,\"#fdca26\"],[1.0,\"#f0f921\"]]}],\"choropleth\":[{\"type\":\"choropleth\",\"colorbar\":{\"outlinewidth\":0,\"ticks\":\"\"}}],\"histogram2d\":[{\"type\":\"histogram2d\",\"colorbar\":{\"outlinewidth\":0,\"ticks\":\"\"},\"colorscale\":[[0.0,\"#0d0887\"],[0.1111111111111111,\"#46039f\"],[0.2222222222222222,\"#7201a8\"],[0.3333333333333333,\"#9c179e\"],[0.4444444444444444,\"#bd3786\"],[0.5555555555555556,\"#d8576b\"],[0.6666666666666666,\"#ed7953\"],[0.7777777777777778,\"#fb9f3a\"],[0.8888888888888888,\"#fdca26\"],[1.0,\"#f0f921\"]]}],\"heatmap\":[{\"type\":\"heatmap\",\"colorbar\":{\"outlinewidth\":0,\"ticks\":\"\"},\"colorscale\":[[0.0,\"#0d0887\"],[0.1111111111111111,\"#46039f\"],[0.2222222222222222,\"#7201a8\"],[0.3333333333333333,\"#9c179e\"],[0.4444444444444444,\"#bd3786\"],[0.5555555555555556,\"#d8576b\"],[0.6666666666666666,\"#ed7953\"],[0.7777777777777778,\"#fb9f3a\"],[0.8888888888888888,\"#fdca26\"],[1.0,\"#f0f921\"]]}],\"heatmapgl\":[{\"type\":\"heatmapgl\",\"colorbar\":{\"outlinewidth\":0,\"ticks\":\"\"},\"colorscale\":[[0.0,\"#0d0887\"],[0.1111111111111111,\"#46039f\"],[0.2222222222222222,\"#7201a8\"],[0.3333333333333333,\"#9c179e\"],[0.4444444444444444,\"#bd3786\"],[0.5555555555555556,\"#d8576b\"],[0.6666666666666666,\"#ed7953\"],[0.7777777777777778,\"#fb9f3a\"],[0.8888888888888888,\"#fdca26\"],[1.0,\"#f0f921\"]]}],\"contourcarpet\":[{\"type\":\"contourcarpet\",\"colorbar\":{\"outlinewidth\":0,\"ticks\":\"\"}}],\"contour\":[{\"type\":\"contour\",\"colorbar\":{\"outlinewidth\":0,\"ticks\":\"\"},\"colorscale\":[[0.0,\"#0d0887\"],[0.1111111111111111,\"#46039f\"],[0.2222222222222222,\"#7201a8\"],[0.3333333333333333,\"#9c179e\"],[0.4444444444444444,\"#bd3786\"],[0.5555555555555556,\"#d8576b\"],[0.6666666666666666,\"#ed7953\"],[0.7777777777777778,\"#fb9f3a\"],[0.8888888888888888,\"#fdca26\"],[1.0,\"#f0f921\"]]}],\"surface\":[{\"type\":\"surface\",\"colorbar\":{\"outlinewidth\":0,\"ticks\":\"\"},\"colorscale\":[[0.0,\"#0d0887\"],[0.1111111111111111,\"#46039f\"],[0.2222222222222222,\"#7201a8\"],[0.3333333333333333,\"#9c179e\"],[0.4444444444444444,\"#bd3786\"],[0.5555555555555556,\"#d8576b\"],[0.6666666666666666,\"#ed7953\"],[0.7777777777777778,\"#fb9f3a\"],[0.8888888888888888,\"#fdca26\"],[1.0,\"#f0f921\"]]}],\"mesh3d\":[{\"type\":\"mesh3d\",\"colorbar\":{\"outlinewidth\":0,\"ticks\":\"\"}}],\"scatter\":[{\"fillpattern\":{\"fillmode\":\"overlay\",\"size\":10,\"solidity\":0.2},\"type\":\"scatter\"}],\"parcoords\":[{\"type\":\"parcoords\",\"line\":{\"colorbar\":{\"outlinewidth\":0,\"ticks\":\"\"}}}],\"scatterpolargl\":[{\"type\":\"scatterpolargl\",\"marker\":{\"colorbar\":{\"outlinewidth\":0,\"ticks\":\"\"}}}],\"bar\":[{\"error_x\":{\"color\":\"#2a3f5f\"},\"error_y\":{\"color\":\"#2a3f5f\"},\"marker\":{\"line\":{\"color\":\"#E5ECF6\",\"width\":0.5},\"pattern\":{\"fillmode\":\"overlay\",\"size\":10,\"solidity\":0.2}},\"type\":\"bar\"}],\"scattergeo\":[{\"type\":\"scattergeo\",\"marker\":{\"colorbar\":{\"outlinewidth\":0,\"ticks\":\"\"}}}],\"scatterpolar\":[{\"type\":\"scatterpolar\",\"marker\":{\"colorbar\":{\"outlinewidth\":0,\"ticks\":\"\"}}}],\"histogram\":[{\"marker\":{\"pattern\":{\"fillmode\":\"overlay\",\"size\":10,\"solidity\":0.2}},\"type\":\"histogram\"}],\"scattergl\":[{\"type\":\"scattergl\",\"marker\":{\"colorbar\":{\"outlinewidth\":0,\"ticks\":\"\"}}}],\"scatter3d\":[{\"type\":\"scatter3d\",\"line\":{\"colorbar\":{\"outlinewidth\":0,\"ticks\":\"\"}},\"marker\":{\"colorbar\":{\"outlinewidth\":0,\"ticks\":\"\"}}}],\"scattermapbox\":[{\"type\":\"scattermapbox\",\"marker\":{\"colorbar\":{\"outlinewidth\":0,\"ticks\":\"\"}}}],\"scatterternary\":[{\"type\":\"scatterternary\",\"marker\":{\"colorbar\":{\"outlinewidth\":0,\"ticks\":\"\"}}}],\"scattercarpet\":[{\"type\":\"scattercarpet\",\"marker\":{\"colorbar\":{\"outlinewidth\":0,\"ticks\":\"\"}}}],\"carpet\":[{\"aaxis\":{\"endlinecolor\":\"#2a3f5f\",\"gridcolor\":\"white\",\"linecolor\":\"white\",\"minorgridcolor\":\"white\",\"startlinecolor\":\"#2a3f5f\"},\"baxis\":{\"endlinecolor\":\"#2a3f5f\",\"gridcolor\":\"white\",\"linecolor\":\"white\",\"minorgridcolor\":\"white\",\"startlinecolor\":\"#2a3f5f\"},\"type\":\"carpet\"}],\"table\":[{\"cells\":{\"fill\":{\"color\":\"#EBF0F8\"},\"line\":{\"color\":\"white\"}},\"header\":{\"fill\":{\"color\":\"#C8D4E3\"},\"line\":{\"color\":\"white\"}},\"type\":\"table\"}],\"barpolar\":[{\"marker\":{\"line\":{\"color\":\"#E5ECF6\",\"width\":0.5},\"pattern\":{\"fillmode\":\"overlay\",\"size\":10,\"solidity\":0.2}},\"type\":\"barpolar\"}],\"pie\":[{\"automargin\":true,\"type\":\"pie\"}]},\"layout\":{\"autotypenumbers\":\"strict\",\"colorway\":[\"#636efa\",\"#EF553B\",\"#00cc96\",\"#ab63fa\",\"#FFA15A\",\"#19d3f3\",\"#FF6692\",\"#B6E880\",\"#FF97FF\",\"#FECB52\"],\"font\":{\"color\":\"#2a3f5f\"},\"hovermode\":\"closest\",\"hoverlabel\":{\"align\":\"left\"},\"paper_bgcolor\":\"white\",\"plot_bgcolor\":\"#E5ECF6\",\"polar\":{\"bgcolor\":\"#E5ECF6\",\"angularaxis\":{\"gridcolor\":\"white\",\"linecolor\":\"white\",\"ticks\":\"\"},\"radialaxis\":{\"gridcolor\":\"white\",\"linecolor\":\"white\",\"ticks\":\"\"}},\"ternary\":{\"bgcolor\":\"#E5ECF6\",\"aaxis\":{\"gridcolor\":\"white\",\"linecolor\":\"white\",\"ticks\":\"\"},\"baxis\":{\"gridcolor\":\"white\",\"linecolor\":\"white\",\"ticks\":\"\"},\"caxis\":{\"gridcolor\":\"white\",\"linecolor\":\"white\",\"ticks\":\"\"}},\"coloraxis\":{\"colorbar\":{\"outlinewidth\":0,\"ticks\":\"\"}},\"colorscale\":{\"sequential\":[[0.0,\"#0d0887\"],[0.1111111111111111,\"#46039f\"],[0.2222222222222222,\"#7201a8\"],[0.3333333333333333,\"#9c179e\"],[0.4444444444444444,\"#bd3786\"],[0.5555555555555556,\"#d8576b\"],[0.6666666666666666,\"#ed7953\"],[0.7777777777777778,\"#fb9f3a\"],[0.8888888888888888,\"#fdca26\"],[1.0,\"#f0f921\"]],\"sequentialminus\":[[0.0,\"#0d0887\"],[0.1111111111111111,\"#46039f\"],[0.2222222222222222,\"#7201a8\"],[0.3333333333333333,\"#9c179e\"],[0.4444444444444444,\"#bd3786\"],[0.5555555555555556,\"#d8576b\"],[0.6666666666666666,\"#ed7953\"],[0.7777777777777778,\"#fb9f3a\"],[0.8888888888888888,\"#fdca26\"],[1.0,\"#f0f921\"]],\"diverging\":[[0,\"#8e0152\"],[0.1,\"#c51b7d\"],[0.2,\"#de77ae\"],[0.3,\"#f1b6da\"],[0.4,\"#fde0ef\"],[0.5,\"#f7f7f7\"],[0.6,\"#e6f5d0\"],[0.7,\"#b8e186\"],[0.8,\"#7fbc41\"],[0.9,\"#4d9221\"],[1,\"#276419\"]]},\"xaxis\":{\"gridcolor\":\"white\",\"linecolor\":\"white\",\"ticks\":\"\",\"title\":{\"standoff\":15},\"zerolinecolor\":\"white\",\"automargin\":true,\"zerolinewidth\":2},\"yaxis\":{\"gridcolor\":\"white\",\"linecolor\":\"white\",\"ticks\":\"\",\"title\":{\"standoff\":15},\"zerolinecolor\":\"white\",\"automargin\":true,\"zerolinewidth\":2},\"scene\":{\"xaxis\":{\"backgroundcolor\":\"#E5ECF6\",\"gridcolor\":\"white\",\"linecolor\":\"white\",\"showbackground\":true,\"ticks\":\"\",\"zerolinecolor\":\"white\",\"gridwidth\":2},\"yaxis\":{\"backgroundcolor\":\"#E5ECF6\",\"gridcolor\":\"white\",\"linecolor\":\"white\",\"showbackground\":true,\"ticks\":\"\",\"zerolinecolor\":\"white\",\"gridwidth\":2},\"zaxis\":{\"backgroundcolor\":\"#E5ECF6\",\"gridcolor\":\"white\",\"linecolor\":\"white\",\"showbackground\":true,\"ticks\":\"\",\"zerolinecolor\":\"white\",\"gridwidth\":2}},\"shapedefaults\":{\"line\":{\"color\":\"#2a3f5f\"}},\"annotationdefaults\":{\"arrowcolor\":\"#2a3f5f\",\"arrowhead\":0,\"arrowwidth\":1},\"geo\":{\"bgcolor\":\"white\",\"landcolor\":\"#E5ECF6\",\"subunitcolor\":\"white\",\"showland\":true,\"showlakes\":true,\"lakecolor\":\"white\"},\"title\":{\"x\":0.05},\"mapbox\":{\"style\":\"light\"}}}},                        {\"responsive\": true}                    ).then(function(){\n",
              "                            \n",
              "var gd = document.getElementById('305f6f16-d5dc-4417-9537-de0a5816fdc9');\n",
              "var x = new MutationObserver(function (mutations, observer) {{\n",
              "        var display = window.getComputedStyle(gd).display;\n",
              "        if (!display || display === 'none') {{\n",
              "            console.log([gd, 'removed!']);\n",
              "            Plotly.purge(gd);\n",
              "            observer.disconnect();\n",
              "        }}\n",
              "}});\n",
              "\n",
              "// Listen for the removal of the full notebook cells\n",
              "var notebookContainer = gd.closest('#notebook-container');\n",
              "if (notebookContainer) {{\n",
              "    x.observe(notebookContainer, {childList: true});\n",
              "}}\n",
              "\n",
              "// Listen for the clearing of the current output cell\n",
              "var outputEl = gd.closest('.output');\n",
              "if (outputEl) {{\n",
              "    x.observe(outputEl, {childList: true});\n",
              "}}\n",
              "\n",
              "                        })                };                            </script>        </div>\n",
              "</body>\n",
              "</html>"
            ]
          },
          "metadata": {}
        }
      ],
      "source": [
        "dfpl =df.copy() #df[0:100]\n",
        "fig = go.Figure(data=[go.Candlestick(x=dfpl.index,\n",
        "                open=dfpl['Open'],\n",
        "                high=dfpl['High'],\n",
        "                low=dfpl['Low'],\n",
        "                close=dfpl['Close'])])\n",
        "\n",
        "fig.add_scatter(x=dfpl.index, y=dfpl['pointpos'], mode=\"markers\",\n",
        "                marker=dict(size=10, color=\"MediumPurple\"),\n",
        "                name=\"pivot\")\n",
        "#fig.update_layout(xaxis_rangeslider_visible=False)\n",
        "fig.show()"
      ]
    },
    {
      "cell_type": "markdown",
      "id": "d1079664",
      "metadata": {
        "id": "d1079664"
      },
      "source": [
        "## Detect Price Channel"
      ]
    },
    {
      "cell_type": "code",
      "execution_count": 47,
      "id": "e2a6e303",
      "metadata": {
        "id": "e2a6e303"
      },
      "outputs": [],
      "source": [
        "def collect_channel(candle, backcandles, window):\n",
        "    localdf = df[candle-backcandles-window:candle-window]\n",
        "    localdf['isPivot'] = localdf.apply(lambda x: isPivot(x.name,window), axis=1)\n",
        "    highs = localdf[localdf['isPivot']==1].High.values\n",
        "    idxhighs = localdf[localdf['isPivot']==1].High.index\n",
        "    lows = localdf[localdf['isPivot']==2].Low.values\n",
        "    idxlows = localdf[localdf['isPivot']==2].Low.index\n",
        "\n",
        "    if len(lows)>=2 and len(highs)>=2:\n",
        "        sl_lows, interc_lows, r_value_l, _, _ = stats.linregress(idxlows,lows)\n",
        "        sl_highs, interc_highs, r_value_h, _, _ = stats.linregress(idxhighs,highs)\n",
        "\n",
        "        return(sl_lows, interc_lows, sl_highs, interc_highs, r_value_l**2, r_value_h**2)\n",
        "    else:\n",
        "        return(0,0,0,0,0,0)\n",
        ""
      ]
    },
    {
      "cell_type": "code",
      "execution_count": 48,
      "id": "22c06cb2",
      "metadata": {
        "colab": {
          "base_uri": "https://localhost:8080/",
          "height": 559
        },
        "id": "22c06cb2",
        "outputId": "e02bbacb-a79a-4d89-f043-b632bcfeee1f"
      },
      "outputs": [
        {
          "output_type": "stream",
          "name": "stdout",
          "text": [
            "0 0\n"
          ]
        },
        {
          "output_type": "display_data",
          "data": {
            "text/html": [
              "<html>\n",
              "<head><meta charset=\"utf-8\" /></head>\n",
              "<body>\n",
              "    <div>            <script src=\"https://cdnjs.cloudflare.com/ajax/libs/mathjax/2.7.5/MathJax.js?config=TeX-AMS-MML_SVG\"></script><script type=\"text/javascript\">if (window.MathJax && window.MathJax.Hub && window.MathJax.Hub.Config) {window.MathJax.Hub.Config({SVG: {font: \"STIX-Web\"}});}</script>                <script type=\"text/javascript\">window.PlotlyConfig = {MathJaxConfig: 'local'};</script>\n",
              "        <script charset=\"utf-8\" src=\"https://cdn.plot.ly/plotly-2.35.2.min.js\"></script>                <div id=\"a56b8521-0bc8-4e01-8aa5-7d931648b0bb\" class=\"plotly-graph-div\" style=\"height:525px; width:100%;\"></div>            <script type=\"text/javascript\">                                    window.PLOTLYENV=window.PLOTLYENV || {};                                    if (document.getElementById(\"a56b8521-0bc8-4e01-8aa5-7d931648b0bb\")) {                    Plotly.newPlot(                        \"a56b8521-0bc8-4e01-8aa5-7d931648b0bb\",                        [{\"close\":[159.3,157.7,153.8,153.6,153.6,158.0,160.7,159.5,159.2,154.9,157.0,158.7,156.7,163.1,162.6,165.0,164.5,164.7,169.3,168.1,169.8,168.1,169.3,170.5,170.4,168.4,166.4,167.6,166.6,165.2,165.2,163.5,165.0,165.8,165.5,167.9,166.4,164.9,164.4,162.6,162.8,161.7,161.2,161.7,161.3,160.8,159.5,160.0,160.4,160.5,161.9,161.8,162.8,163.1,163.6,162.6,163.1,161.9,161.7,160.9,161.1,161.2,161.7,160.9,160.4,160.3,161.4,161.1,161.7,162.4,161.6,160.7,161.9,162.7,162.6,162.9,164.3,164.9,163.8,162.3,161.0,162.2,161.2,160.6,160.6,154.2,154.6,154.7,154.0,154.2,154.5,157.2,158.1,158.1,158.4,161.0,159.8,158.9,158.8,159.3,159.8,159.7,160.7,160.1,160.0,158.4,158.5,157.8,157.7,157.1,155.2,155.2,155.7,154.6,154.3,155.4,152.8,153.1,152.8,152.6,152.3,152.5,150.4,149.0,149.5,150.0,147.5,146.9,147.5,147.9,147.2,147.3,147.1,147.5,147.6,148.7,148.4,148.4,148.3,148.2,147.6,147.7,147.6,147.0,146.9,147.1,146.8,146.8,146.2,145.2,145.3,144.9,143.7,143.5,143.2,143.0,140.6,140.7,140.4,140.5,139.8,139.5,139.3,139.5,139.1,139.6,140.5,139.8,139.7,139.5,136.9,143.5,144.0,143.1,143.6,145.2,144.3,146.3,146.9,147.0,144.0,145.1,145.4,143.1,143.2,147.0,145.7,146.3,146.6,146.4,148.1,153.7,153.1,150.6,150.5,151.5,147.0,147.5,147.2,146.5,145.6,146.0,145.2,145.0,145.2,145.5,142.9,143.0,143.0,143.9,144.7,145.5,145.8,146.8,147.1,147.6,147.1,147.0,147.0,146.5,146.2,145.4,145.6,145.7,145.5,145.4,144.5,144.2,143.7,142.6,144.4,145.4,145.6,144.4,144.3,143.5,143.4,142.0,142.5,142.0,142.0,142.2,140.8,141.2,140.7,140.7,138.5,138.7,138.6,138.4,139.4,139.3,138.2,137.6,137.7,137.7,137.8,138.1,139.1,138.4,138.7,139.2,139.0,138.3,138.4,139.5,136.6,136.0,135.7,135.6,135.0,135.9,135.4,135.1,135.0,135.0,134.2,138.1,136.1,136.3,135.8,136.0,134.7,135.0,135.4,135.4,136.4,136.5,137.2,138.6,138.7,137.8,137.4,137.0,137.2,138.0,136.9,139.2,139.9,140.0,140.9,140.4,140.3,140.7,140.7,140.2,140.1,139.3,140.0,141.1,142.2,142.6,142.8,143.8,143.9,148.5,149.1,152.6,152.0,151.7,151.9,153.3,153.5,154.1,154.0,152.9,153.9,154.1,153.7,153.9,154.2,153.5,153.9,154.6,154.5,153.8,156.7,155.3,154.6,155.2,154.7,153.8,155.4,154.4,154.0,154.1,152.8,151.9,150.9,151.6,151.5,150.7,148.7,148.4,148.4,149.0,151.0,151.7,151.8,151.9,153.9,154.1,155.6,158.7,159.0],\"high\":[163.6,160.4,157.7,155.8,153.6,158.0,161.9,161.7,160.0,159.4,157.2,159.2,159.5,163.2,162.6,165.0,167.0,165.2,170.0,169.5,171.2,169.9,169.9,171.2,170.4,168.4,168.8,167.7,168.0,166.8,165.7,165.3,165.7,167.5,165.5,167.9,168.2,166.4,165.1,164.4,163.8,162.9,162.7,162.4,161.3,160.8,161.1,160.5,160.5,160.8,162.0,162.6,163.6,164.1,163.6,162.6,164.2,163.1,162.5,161.8,161.4,161.4,161.9,162.2,160.6,160.3,162.8,161.6,161.9,162.4,162.4,162.7,162.4,164.1,162.6,162.9,165.0,165.0,164.9,164.3,162.8,162.2,162.4,161.5,160.6,154.2,155.0,155.2,154.8,155.3,155.2,158.2,158.7,161.2,158.4,161.0,161.4,159.9,159.3,160.1,160.1,160.4,160.9,160.9,160.0,158.4,159.0,158.7,158.0,157.9,157.2,155.7,156.0,156.3,154.6,155.4,155.5,153.7,153.5,153.3,152.8,153.0,152.8,150.7,149.5,150.0,150.1,147.6,147.5,148.2,148.0,147.7,148.3,147.6,147.6,148.7,149.4,148.6,148.6,148.5,148.4,147.9,147.9,147.9,146.9,147.1,147.4,146.8,146.8,146.3,145.6,145.4,145.1,144.1,143.2,143.0,143.5,141.0,141.5,140.7,140.5,140.0,139.8,139.7,139.1,139.6,140.8,140.5,140.0,139.7,139.6,145.4,144.8,146.8,143.6,145.2,145.2,147.3,148.1,147.7,147.0,145.3,145.9,145.7,143.2,147.0,147.0,146.9,147.4,147.2,148.5,153.9,154.9,153.1,150.6,151.5,151.7,148.4,147.9,147.4,146.8,146.1,146.7,146.4,145.2,145.5,146.7,144.3,143.5,144.4,145.4,145.7,146.6,147.8,147.1,147.6,148.2,147.5,147.6,147.4,147.1,146.3,146.4,146.6,145.7,145.4,146.2,144.7,144.5,143.7,144.6,145.9,146.4,146.2,144.3,143.5,144.7,143.4,142.8,142.5,142.2,142.4,142.2,141.3,140.7,140.7,142.0,139.1,138.7,138.8,139.4,139.9,139.4,138.4,137.7,137.7,138.4,138.3,139.3,139.5,138.8,139.2,139.8,139.3,138.4,139.5,140.3,136.7,136.1,135.8,135.7,135.9,136.1,135.7,135.1,135.0,135.1,138.3,138.5,136.7,136.3,136.3,136.1,136.2,135.4,135.4,138.1,138.0,137.6,138.7,139.4,139.1,137.8,137.4,137.2,138.0,139.2,139.5,140.4,140.3,140.9,143.4,140.9,141.6,140.7,140.2,141.0,140.1,140.2,142.0,142.8,143.7,144.6,143.9,143.9,148.5,149.6,153.4,153.2,152.1,152.6,153.6,153.5,154.8,154.0,152.9,154.3,154.3,154.8,154.1,154.3,154.7,155.0,155.3,154.5,153.8,156.9,157.4,155.5,155.2,155.8,154.9,156.1,155.8,154.4,154.1,155.2,153.0,152.0,152.0,152.0,151.7,151.0,149.2,148.4,149.0,152.4,152.3,153.0,152.1,154.3,154.7,156.5,159.5,159.0],\"low\":[158.1,157.3,153.3,151.6,153.6,158.0,157.0,159.3,158.4,154.8,153.2,156.1,155.8,156.5,162.6,165.0,163.0,163.6,164.7,167.5,167.2,166.9,167.5,169.1,170.4,168.4,166.0,166.2,166.2,165.0,164.5,163.2,163.3,164.6,165.5,167.9,166.2,164.4,164.1,162.2,162.5,161.6,161.1,160.6,161.3,160.8,159.1,159.3,159.7,159.9,159.9,161.1,161.5,162.1,163.6,162.6,161.0,161.6,161.4,160.9,160.8,160.8,160.6,160.6,160.4,160.3,160.1,160.8,160.9,161.6,161.0,160.6,160.5,161.5,162.6,162.9,162.7,164.0,163.3,161.9,159.9,160.8,160.7,160.6,160.6,154.2,153.2,154.2,153.7,153.9,153.9,154.1,156.3,156.2,158.4,161.0,159.4,158.5,158.6,158.0,158.8,159.2,159.3,160.0,160.0,158.4,157.7,157.2,157.6,156.9,154.9,154.9,154.9,154.5,154.3,155.4,152.2,152.6,152.6,152.4,152.0,152.2,150.4,148.8,149.1,150.0,147.4,146.5,146.6,147.0,146.5,147.0,146.7,146.8,147.6,148.7,148.1,147.8,148.0,148.1,147.5,147.1,147.5,146.8,146.9,147.1,146.5,146.3,146.0,145.0,145.0,144.5,143.6,143.2,143.2,143.0,140.5,139.8,140.2,140.1,139.5,139.1,138.9,138.8,139.1,139.6,139.2,139.7,139.5,139.1,136.6,136.5,141.9,143.1,143.6,145.2,141.9,144.2,145.2,146.6,143.8,143.6,144.8,142.8,143.2,147.0,144.2,145.1,146.2,146.1,146.1,148.0,151.7,149.1,150.5,151.5,146.9,146.5,146.8,146.3,145.4,144.9,145.1,145.0,145.2,145.5,142.8,142.4,142.7,143.0,143.9,143.8,144.8,145.5,147.1,147.6,146.1,146.3,146.6,146.4,145.9,145.2,145.3,144.7,145.5,145.4,143.0,143.7,143.0,141.8,142.5,144.3,145.4,144.2,144.3,143.5,142.7,141.8,141.6,141.9,141.7,141.6,140.6,139.8,140.7,140.7,138.2,138.4,138.3,138.0,137.9,139.1,137.9,137.4,137.6,137.7,137.2,137.8,137.6,138.0,138.2,138.5,138.6,138.0,138.4,139.5,136.3,135.5,135.5,135.2,134.9,134.8,135.3,135.0,135.0,135.0,133.7,134.0,135.8,135.9,134.8,134.9,134.4,134.3,135.4,135.4,134.8,136.1,136.4,137.1,138.2,137.7,135.9,136.2,137.2,138.0,136.3,136.9,138.3,139.4,139.0,139.9,139.7,140.1,140.7,140.2,139.1,138.8,139.2,139.5,140.9,142.0,142.3,142.0,143.8,148.5,147.1,148.9,151.8,151.6,151.5,151.6,152.5,152.8,154.0,152.9,151.1,153.4,153.6,153.5,153.3,153.4,153.1,153.8,154.5,153.8,153.4,155.1,153.9,154.4,154.5,153.5,153.6,154.0,154.0,154.1,152.0,151.1,150.7,150.7,150.8,150.4,148.6,148.1,148.4,149.0,148.4,150.7,151.5,151.3,151.7,153.4,153.9,155.4,159.0],\"open\":[162.5,159.4,157.6,153.8,153.6,158.0,158.1,160.7,159.5,159.1,154.8,157.0,158.6,156.6,162.6,165.0,165.1,164.6,164.8,169.3,168.2,169.7,168.2,169.3,170.4,168.4,168.3,166.4,167.7,166.6,165.2,165.1,163.6,164.9,165.5,167.9,167.8,166.3,164.9,164.4,162.5,162.8,161.7,161.2,161.3,160.8,160.7,159.6,160.0,160.5,160.5,162.0,161.7,162.7,163.6,162.6,162.5,163.1,161.8,161.7,161.0,161.0,161.3,161.7,160.6,160.3,160.3,161.5,161.0,161.7,162.3,161.5,160.6,161.8,162.6,162.9,162.8,164.3,164.9,163.8,162.4,161.1,162.1,161.1,160.6,154.2,154.5,154.5,154.7,154.1,154.2,154.5,157.3,158.2,158.4,161.0,161.0,159.8,158.8,158.7,159.3,159.8,159.7,160.7,160.0,158.4,158.3,158.5,157.8,157.7,157.1,155.1,155.2,155.8,154.6,155.4,155.4,152.7,153.1,152.9,152.5,152.3,152.5,150.5,149.1,150.0,150.0,147.5,146.9,147.5,147.9,147.2,147.4,147.2,147.6,148.7,148.7,148.4,148.4,148.3,148.3,147.6,147.7,147.7,146.9,147.1,147.2,146.8,146.8,146.1,145.2,145.4,144.9,143.6,143.2,143.0,142.9,140.6,140.7,140.4,140.5,139.9,139.5,139.4,139.1,139.6,139.6,140.5,139.8,139.7,139.5,136.9,143.4,143.9,143.6,145.2,145.1,144.3,146.2,146.9,146.9,143.9,145.1,145.4,143.2,147.0,146.9,145.8,146.3,146.5,146.5,148.1,153.7,153.0,150.6,151.5,151.5,146.9,147.5,147.2,146.4,145.6,146.0,145.2,145.2,145.5,145.5,142.9,143.0,143.1,144.0,144.8,145.5,145.8,147.1,147.6,147.6,147.1,147.0,147.0,146.4,146.2,145.3,145.6,145.7,145.4,145.4,144.4,144.3,143.7,142.7,144.4,145.4,145.6,144.3,143.5,143.5,143.4,142.1,142.4,142.1,141.9,142.1,140.8,140.7,140.7,140.7,138.5,138.6,138.6,138.5,139.4,139.3,138.2,137.6,137.7,137.7,137.8,138.2,139.1,138.3,138.6,139.2,139.1,138.4,139.5,139.5,136.6,135.9,135.7,135.6,135.1,135.8,135.5,135.1,135.0,135.0,134.3,138.0,136.1,136.3,135.8,136.0,134.6,135.4,135.4,135.5,136.4,136.5,137.1,138.6,138.7,137.8,137.4,137.2,138.0,138.1,136.9,139.2,140.0,139.9,140.8,140.3,140.2,140.7,140.2,140.2,140.1,139.2,140.0,141.1,142.2,142.5,142.7,143.8,148.5,148.5,149.1,152.6,152.0,151.7,151.9,153.3,153.5,154.0,152.9,152.8,154.0,154.1,153.7,153.8,154.1,153.6,153.8,154.5,153.8,153.8,156.6,155.3,154.6,155.2,154.7,153.8,155.3,154.4,154.1,154.2,152.9,151.9,150.9,151.5,151.5,150.6,148.7,148.4,149.0,149.1,151.1,151.8,151.9,151.9,154.0,154.1,155.5,159.0],\"x\":[0,1,2,3,4,5,6,7,8,9,10,11,12,13,14,15,16,17,18,19,20,21,22,23,24,25,26,27,28,29,30,31,32,33,34,35,36,37,38,39,40,41,42,43,44,45,46,47,48,49,50,51,52,53,54,55,56,57,58,59,60,61,62,63,64,65,66,67,68,69,70,71,72,73,74,75,76,77,78,79,80,81,82,83,84,85,86,87,88,89,90,91,92,93,94,95,96,97,98,99,100,101,102,103,104,105,106,107,108,109,110,111,112,113,114,115,116,117,118,119,120,121,122,123,124,125,126,127,128,129,130,131,132,133,134,135,136,137,138,139,140,141,142,143,144,145,146,147,148,149,150,151,152,153,154,155,156,157,158,159,160,161,162,163,164,165,166,167,168,169,170,171,172,173,174,175,176,177,178,179,180,181,182,183,184,185,186,187,188,189,190,191,192,193,194,195,196,197,198,199,200,201,202,203,204,205,206,207,208,209,210,211,212,213,214,215,216,217,218,219,220,221,222,223,224,225,226,227,228,229,230,231,232,233,234,235,236,237,238,239,240,241,242,243,244,245,246,247,248,249,250,251,252,253,254,255,256,257,258,259,260,261,262,263,264,265,266,267,268,269,270,271,272,273,274,275,276,277,278,279,280,281,282,283,284,285,286,287,288,289,290,291,292,293,294,295,296,297,298,299,300,301,302,303,304,305,306,307,308,309,310,311,312,313,314,315,316,317,318,319,320,321,322,323,324,325,326,327,328,329,330,331,332,333,334,335,336,337,338,339,340,341,342,343,344,345,346,347,348,349,350,351,352,353,354,355,356,357,358,359,360,361,362,363,364],\"type\":\"candlestick\"},{\"marker\":{\"color\":\"MediumPurple\",\"size\":5},\"mode\":\"markers\",\"name\":\"pivot\",\"x\":[0,1,2,3,4,5,6,7,8,9,10,11,12,13,14,15,16,17,18,19,20,21,22,23,24,25,26,27,28,29,30,31,32,33,34,35,36,37,38,39,40,41,42,43,44,45,46,47,48,49,50,51,52,53,54,55,56,57,58,59,60,61,62,63,64,65,66,67,68,69,70,71,72,73,74,75,76,77,78,79,80,81,82,83,84,85,86,87,88,89,90,91,92,93,94,95,96,97,98,99,100,101,102,103,104,105,106,107,108,109,110,111,112,113,114,115,116,117,118,119,120,121,122,123,124,125,126,127,128,129,130,131,132,133,134,135,136,137,138,139,140,141,142,143,144,145,146,147,148,149,150,151,152,153,154,155,156,157,158,159,160,161,162,163,164,165,166,167,168,169,170,171,172,173,174,175,176,177,178,179,180,181,182,183,184,185,186,187,188,189,190,191,192,193,194,195,196,197,198,199,200,201,202,203,204,205,206,207,208,209,210,211,212,213,214,215,216,217,218,219,220,221,222,223,224,225,226,227,228,229,230,231,232,233,234,235,236,237,238,239,240,241,242,243,244,245,246,247,248,249,250,251,252,253,254,255,256,257,258,259,260,261,262,263,264,265,266,267,268,269,270,271,272,273,274,275,276,277,278,279,280,281,282,283,284,285,286,287,288,289,290,291,292,293,294,295,296,297,298,299,300,301,302,303,304,305,306,307,308,309,310,311,312,313,314,315,316,317,318,319,320,321,322,323,324,325,326,327,328,329,330,331,332,333,334,335,336,337,338,339,340,341,342,343,344,345,346,347,348,349,350,351,352,353,354,355,356,357,358,359,360,361,362,363,364],\"y\":[null,null,null,151.599,null,null,161.901,null,null,null,153.19899999999998,null,null,null,null,null,null,null,null,null,171.201,null,null,171.201,null,null,null,null,null,null,null,163.19899999999998,null,null,null,null,168.201,null,null,null,null,null,null,null,null,null,159.099,null,null,null,null,null,null,null,null,null,164.201,null,null,null,null,null,null,null,null,null,null,null,null,null,null,null,160.499,null,null,null,165.001,165.001,null,null,159.899,null,null,null,null,null,153.19899999999998,null,null,null,null,null,null,null,null,null,161.401,null,null,157.999,null,null,160.901,160.901,null,null,null,null,null,null,null,null,null,null,null,null,152.19899999999998,null,null,null,null,null,null,null,null,null,null,146.499,null,null,146.499,null,null,null,null,null,149.401,null,null,null,null,null,null,null,null,null,null,null,null,null,null,null,null,null,null,null,null,null,null,null,null,null,null,138.799,null,null,140.80100000000002,null,null,null,null,136.499,null,146.80100000000002,null,null,141.899,null,148.101,null,null,null,null,142.799,null,null,null,null,null,null,null,null,154.901,null,null,null,null,null,null,null,null,144.899,null,null,null,null,146.701,142.399,null,null,null,null,null,null,null,null,148.201,null,null,null,null,null,null,null,null,null,null,null,null,141.799,null,null,146.401,null,null,null,null,null,141.599,null,null,null,null,null,null,null,142.001,null,null,null,null,139.901,null,null,null,null,137.19899999999998,null,null,null,null,null,139.80100000000002,null,null,null,140.30100000000002,null,null,null,null,134.799,136.101,null,null,null,133.69899999999998,null,138.501,null,null,null,null,134.299,null,null,null,null,null,null,139.401,null,135.899,null,null,null,null,null,null,null,null,143.401,null,null,null,null,null,138.799,null,null,null,null,null,null,null,null,null,153.401,null,null,null,null,null,154.80100000000002,null,null,151.099,null,154.80100000000002,null,null,null,153.099,null,null,null,153.399,157.401,null,null,null,153.499,156.101,null,null,null,null,null,null,null,null,null,null,148.099,null,null,null,null,null,null,null,null,null,null,null],\"type\":\"scatter\"},{\"mode\":\"lines\",\"name\":\"lower slope\",\"x\":[32,33,34,35,36,37,38,39,40,41,42,43,44,45,46,47,48,49,50,51,52,53,54,55,56,57,58,59,60,61,62,63,64,65,66,67,68,69,70,71,72,73,74,75],\"y\":[0,0,0,0,0,0,0,0,0,0,0,0,0,0,0,0,0,0,0,0,0,0,0,0,0,0,0,0,0,0,0,0,0,0,0,0,0,0,0,0,0,0,0,0],\"type\":\"scatter\"},{\"mode\":\"lines\",\"name\":\"max slope\",\"x\":[32,33,34,35,36,37,38,39,40,41,42,43,44,45,46,47,48,49,50,51,52,53,54,55,56,57,58,59,60,61,62,63,64,65,66,67,68,69,70,71,72,73,74,75],\"y\":[0,0,0,0,0,0,0,0,0,0,0,0,0,0,0,0,0,0,0,0,0,0,0,0,0,0,0,0,0,0,0,0,0,0,0,0,0,0,0,0,0,0,0,0],\"type\":\"scatter\"}],                        {\"template\":{\"data\":{\"histogram2dcontour\":[{\"type\":\"histogram2dcontour\",\"colorbar\":{\"outlinewidth\":0,\"ticks\":\"\"},\"colorscale\":[[0.0,\"#0d0887\"],[0.1111111111111111,\"#46039f\"],[0.2222222222222222,\"#7201a8\"],[0.3333333333333333,\"#9c179e\"],[0.4444444444444444,\"#bd3786\"],[0.5555555555555556,\"#d8576b\"],[0.6666666666666666,\"#ed7953\"],[0.7777777777777778,\"#fb9f3a\"],[0.8888888888888888,\"#fdca26\"],[1.0,\"#f0f921\"]]}],\"choropleth\":[{\"type\":\"choropleth\",\"colorbar\":{\"outlinewidth\":0,\"ticks\":\"\"}}],\"histogram2d\":[{\"type\":\"histogram2d\",\"colorbar\":{\"outlinewidth\":0,\"ticks\":\"\"},\"colorscale\":[[0.0,\"#0d0887\"],[0.1111111111111111,\"#46039f\"],[0.2222222222222222,\"#7201a8\"],[0.3333333333333333,\"#9c179e\"],[0.4444444444444444,\"#bd3786\"],[0.5555555555555556,\"#d8576b\"],[0.6666666666666666,\"#ed7953\"],[0.7777777777777778,\"#fb9f3a\"],[0.8888888888888888,\"#fdca26\"],[1.0,\"#f0f921\"]]}],\"heatmap\":[{\"type\":\"heatmap\",\"colorbar\":{\"outlinewidth\":0,\"ticks\":\"\"},\"colorscale\":[[0.0,\"#0d0887\"],[0.1111111111111111,\"#46039f\"],[0.2222222222222222,\"#7201a8\"],[0.3333333333333333,\"#9c179e\"],[0.4444444444444444,\"#bd3786\"],[0.5555555555555556,\"#d8576b\"],[0.6666666666666666,\"#ed7953\"],[0.7777777777777778,\"#fb9f3a\"],[0.8888888888888888,\"#fdca26\"],[1.0,\"#f0f921\"]]}],\"heatmapgl\":[{\"type\":\"heatmapgl\",\"colorbar\":{\"outlinewidth\":0,\"ticks\":\"\"},\"colorscale\":[[0.0,\"#0d0887\"],[0.1111111111111111,\"#46039f\"],[0.2222222222222222,\"#7201a8\"],[0.3333333333333333,\"#9c179e\"],[0.4444444444444444,\"#bd3786\"],[0.5555555555555556,\"#d8576b\"],[0.6666666666666666,\"#ed7953\"],[0.7777777777777778,\"#fb9f3a\"],[0.8888888888888888,\"#fdca26\"],[1.0,\"#f0f921\"]]}],\"contourcarpet\":[{\"type\":\"contourcarpet\",\"colorbar\":{\"outlinewidth\":0,\"ticks\":\"\"}}],\"contour\":[{\"type\":\"contour\",\"colorbar\":{\"outlinewidth\":0,\"ticks\":\"\"},\"colorscale\":[[0.0,\"#0d0887\"],[0.1111111111111111,\"#46039f\"],[0.2222222222222222,\"#7201a8\"],[0.3333333333333333,\"#9c179e\"],[0.4444444444444444,\"#bd3786\"],[0.5555555555555556,\"#d8576b\"],[0.6666666666666666,\"#ed7953\"],[0.7777777777777778,\"#fb9f3a\"],[0.8888888888888888,\"#fdca26\"],[1.0,\"#f0f921\"]]}],\"surface\":[{\"type\":\"surface\",\"colorbar\":{\"outlinewidth\":0,\"ticks\":\"\"},\"colorscale\":[[0.0,\"#0d0887\"],[0.1111111111111111,\"#46039f\"],[0.2222222222222222,\"#7201a8\"],[0.3333333333333333,\"#9c179e\"],[0.4444444444444444,\"#bd3786\"],[0.5555555555555556,\"#d8576b\"],[0.6666666666666666,\"#ed7953\"],[0.7777777777777778,\"#fb9f3a\"],[0.8888888888888888,\"#fdca26\"],[1.0,\"#f0f921\"]]}],\"mesh3d\":[{\"type\":\"mesh3d\",\"colorbar\":{\"outlinewidth\":0,\"ticks\":\"\"}}],\"scatter\":[{\"fillpattern\":{\"fillmode\":\"overlay\",\"size\":10,\"solidity\":0.2},\"type\":\"scatter\"}],\"parcoords\":[{\"type\":\"parcoords\",\"line\":{\"colorbar\":{\"outlinewidth\":0,\"ticks\":\"\"}}}],\"scatterpolargl\":[{\"type\":\"scatterpolargl\",\"marker\":{\"colorbar\":{\"outlinewidth\":0,\"ticks\":\"\"}}}],\"bar\":[{\"error_x\":{\"color\":\"#2a3f5f\"},\"error_y\":{\"color\":\"#2a3f5f\"},\"marker\":{\"line\":{\"color\":\"#E5ECF6\",\"width\":0.5},\"pattern\":{\"fillmode\":\"overlay\",\"size\":10,\"solidity\":0.2}},\"type\":\"bar\"}],\"scattergeo\":[{\"type\":\"scattergeo\",\"marker\":{\"colorbar\":{\"outlinewidth\":0,\"ticks\":\"\"}}}],\"scatterpolar\":[{\"type\":\"scatterpolar\",\"marker\":{\"colorbar\":{\"outlinewidth\":0,\"ticks\":\"\"}}}],\"histogram\":[{\"marker\":{\"pattern\":{\"fillmode\":\"overlay\",\"size\":10,\"solidity\":0.2}},\"type\":\"histogram\"}],\"scattergl\":[{\"type\":\"scattergl\",\"marker\":{\"colorbar\":{\"outlinewidth\":0,\"ticks\":\"\"}}}],\"scatter3d\":[{\"type\":\"scatter3d\",\"line\":{\"colorbar\":{\"outlinewidth\":0,\"ticks\":\"\"}},\"marker\":{\"colorbar\":{\"outlinewidth\":0,\"ticks\":\"\"}}}],\"scattermapbox\":[{\"type\":\"scattermapbox\",\"marker\":{\"colorbar\":{\"outlinewidth\":0,\"ticks\":\"\"}}}],\"scatterternary\":[{\"type\":\"scatterternary\",\"marker\":{\"colorbar\":{\"outlinewidth\":0,\"ticks\":\"\"}}}],\"scattercarpet\":[{\"type\":\"scattercarpet\",\"marker\":{\"colorbar\":{\"outlinewidth\":0,\"ticks\":\"\"}}}],\"carpet\":[{\"aaxis\":{\"endlinecolor\":\"#2a3f5f\",\"gridcolor\":\"white\",\"linecolor\":\"white\",\"minorgridcolor\":\"white\",\"startlinecolor\":\"#2a3f5f\"},\"baxis\":{\"endlinecolor\":\"#2a3f5f\",\"gridcolor\":\"white\",\"linecolor\":\"white\",\"minorgridcolor\":\"white\",\"startlinecolor\":\"#2a3f5f\"},\"type\":\"carpet\"}],\"table\":[{\"cells\":{\"fill\":{\"color\":\"#EBF0F8\"},\"line\":{\"color\":\"white\"}},\"header\":{\"fill\":{\"color\":\"#C8D4E3\"},\"line\":{\"color\":\"white\"}},\"type\":\"table\"}],\"barpolar\":[{\"marker\":{\"line\":{\"color\":\"#E5ECF6\",\"width\":0.5},\"pattern\":{\"fillmode\":\"overlay\",\"size\":10,\"solidity\":0.2}},\"type\":\"barpolar\"}],\"pie\":[{\"automargin\":true,\"type\":\"pie\"}]},\"layout\":{\"autotypenumbers\":\"strict\",\"colorway\":[\"#636efa\",\"#EF553B\",\"#00cc96\",\"#ab63fa\",\"#FFA15A\",\"#19d3f3\",\"#FF6692\",\"#B6E880\",\"#FF97FF\",\"#FECB52\"],\"font\":{\"color\":\"#2a3f5f\"},\"hovermode\":\"closest\",\"hoverlabel\":{\"align\":\"left\"},\"paper_bgcolor\":\"white\",\"plot_bgcolor\":\"#E5ECF6\",\"polar\":{\"bgcolor\":\"#E5ECF6\",\"angularaxis\":{\"gridcolor\":\"white\",\"linecolor\":\"white\",\"ticks\":\"\"},\"radialaxis\":{\"gridcolor\":\"white\",\"linecolor\":\"white\",\"ticks\":\"\"}},\"ternary\":{\"bgcolor\":\"#E5ECF6\",\"aaxis\":{\"gridcolor\":\"white\",\"linecolor\":\"white\",\"ticks\":\"\"},\"baxis\":{\"gridcolor\":\"white\",\"linecolor\":\"white\",\"ticks\":\"\"},\"caxis\":{\"gridcolor\":\"white\",\"linecolor\":\"white\",\"ticks\":\"\"}},\"coloraxis\":{\"colorbar\":{\"outlinewidth\":0,\"ticks\":\"\"}},\"colorscale\":{\"sequential\":[[0.0,\"#0d0887\"],[0.1111111111111111,\"#46039f\"],[0.2222222222222222,\"#7201a8\"],[0.3333333333333333,\"#9c179e\"],[0.4444444444444444,\"#bd3786\"],[0.5555555555555556,\"#d8576b\"],[0.6666666666666666,\"#ed7953\"],[0.7777777777777778,\"#fb9f3a\"],[0.8888888888888888,\"#fdca26\"],[1.0,\"#f0f921\"]],\"sequentialminus\":[[0.0,\"#0d0887\"],[0.1111111111111111,\"#46039f\"],[0.2222222222222222,\"#7201a8\"],[0.3333333333333333,\"#9c179e\"],[0.4444444444444444,\"#bd3786\"],[0.5555555555555556,\"#d8576b\"],[0.6666666666666666,\"#ed7953\"],[0.7777777777777778,\"#fb9f3a\"],[0.8888888888888888,\"#fdca26\"],[1.0,\"#f0f921\"]],\"diverging\":[[0,\"#8e0152\"],[0.1,\"#c51b7d\"],[0.2,\"#de77ae\"],[0.3,\"#f1b6da\"],[0.4,\"#fde0ef\"],[0.5,\"#f7f7f7\"],[0.6,\"#e6f5d0\"],[0.7,\"#b8e186\"],[0.8,\"#7fbc41\"],[0.9,\"#4d9221\"],[1,\"#276419\"]]},\"xaxis\":{\"gridcolor\":\"white\",\"linecolor\":\"white\",\"ticks\":\"\",\"title\":{\"standoff\":15},\"zerolinecolor\":\"white\",\"automargin\":true,\"zerolinewidth\":2},\"yaxis\":{\"gridcolor\":\"white\",\"linecolor\":\"white\",\"ticks\":\"\",\"title\":{\"standoff\":15},\"zerolinecolor\":\"white\",\"automargin\":true,\"zerolinewidth\":2},\"scene\":{\"xaxis\":{\"backgroundcolor\":\"#E5ECF6\",\"gridcolor\":\"white\",\"linecolor\":\"white\",\"showbackground\":true,\"ticks\":\"\",\"zerolinecolor\":\"white\",\"gridwidth\":2},\"yaxis\":{\"backgroundcolor\":\"#E5ECF6\",\"gridcolor\":\"white\",\"linecolor\":\"white\",\"showbackground\":true,\"ticks\":\"\",\"zerolinecolor\":\"white\",\"gridwidth\":2},\"zaxis\":{\"backgroundcolor\":\"#E5ECF6\",\"gridcolor\":\"white\",\"linecolor\":\"white\",\"showbackground\":true,\"ticks\":\"\",\"zerolinecolor\":\"white\",\"gridwidth\":2}},\"shapedefaults\":{\"line\":{\"color\":\"#2a3f5f\"}},\"annotationdefaults\":{\"arrowcolor\":\"#2a3f5f\",\"arrowhead\":0,\"arrowwidth\":1},\"geo\":{\"bgcolor\":\"white\",\"landcolor\":\"#E5ECF6\",\"subunitcolor\":\"white\",\"showland\":true,\"showlakes\":true,\"lakecolor\":\"white\"},\"title\":{\"x\":0.05},\"mapbox\":{\"style\":\"light\"}}}},                        {\"responsive\": true}                    ).then(function(){\n",
              "                            \n",
              "var gd = document.getElementById('a56b8521-0bc8-4e01-8aa5-7d931648b0bb');\n",
              "var x = new MutationObserver(function (mutations, observer) {{\n",
              "        var display = window.getComputedStyle(gd).display;\n",
              "        if (!display || display === 'none') {{\n",
              "            console.log([gd, 'removed!']);\n",
              "            Plotly.purge(gd);\n",
              "            observer.disconnect();\n",
              "        }}\n",
              "}});\n",
              "\n",
              "// Listen for the removal of the full notebook cells\n",
              "var notebookContainer = gd.closest('#notebook-container');\n",
              "if (notebookContainer) {{\n",
              "    x.observe(notebookContainer, {childList: true});\n",
              "}}\n",
              "\n",
              "// Listen for the clearing of the current output cell\n",
              "var outputEl = gd.closest('.output');\n",
              "if (outputEl) {{\n",
              "    x.observe(outputEl, {childList: true});\n",
              "}}\n",
              "\n",
              "                        })                };                            </script>        </div>\n",
              "</body>\n",
              "</html>"
            ]
          },
          "metadata": {}
        }
      ],
      "source": [
        "candle = 75\n",
        "backcandles = 40\n",
        "window = 3\n",
        "\n",
        "#dfpl = df[candle-backcandles-window-5:candle+200]\n",
        "\n",
        "fig = go.Figure(data=[go.Candlestick(x=dfpl.index,\n",
        "                open=dfpl['Open'],\n",
        "                high=dfpl['High'],\n",
        "                low=dfpl['Low'],\n",
        "                close=dfpl['Close'])])\n",
        "\n",
        "fig.add_scatter(x=dfpl.index, y=dfpl['pointpos'], mode=\"markers\",\n",
        "                marker=dict(size=5, color=\"MediumPurple\"),\n",
        "                name=\"pivot\")\n",
        "\n",
        "sl_lows, interc_lows, sl_highs, interc_highs, r_sq_l, r_sq_h = collect_channel(candle, backcandles, window)\n",
        "print(r_sq_l, r_sq_h)\n",
        "x = np.array(range(candle-backcandles-window, candle+1))\n",
        "fig.add_trace(go.Scatter(x=x, y=sl_lows*x + interc_lows, mode='lines', name='lower slope'))\n",
        "fig.add_trace(go.Scatter(x=x, y=sl_highs*x + interc_highs, mode='lines', name='max slope'))\n",
        "#fig.update_layout(xaxis_rangeslider_visible=False)\n",
        "fig.show()"
      ]
    },
    {
      "cell_type": "markdown",
      "id": "57b58755",
      "metadata": {
        "id": "57b58755"
      },
      "source": [
        "## Detect Break Out"
      ]
    },
    {
      "cell_type": "code",
      "execution_count": 49,
      "id": "57028e27",
      "metadata": {
        "id": "57028e27"
      },
      "outputs": [],
      "source": [
        "def isBreakOut(candle, backcandles, window):\n",
        "    if (candle-backcandles-window)<0:\n",
        "        return 0\n",
        "\n",
        "    sl_lows, interc_lows, sl_highs, interc_highs, r_sq_l, r_sq_h = collect_channel(candle,\n",
        "                                                                                   backcandles,\n",
        "                                                                                   window)\n",
        "\n",
        "    prev_idx = candle-1\n",
        "    prev_high = df.iloc[candle-1].High\n",
        "    prev_low = df.iloc[candle-1].Low\n",
        "    prev_close = df.iloc[candle-1].Close\n",
        "\n",
        "    curr_idx = candle\n",
        "    curr_high = df.iloc[candle].High\n",
        "    curr_low = df.iloc[candle].Low\n",
        "    curr_close = df.iloc[candle].Close\n",
        "    curr_open = df.iloc[candle].Open\n",
        "\n",
        "    if ( prev_high > (sl_lows*prev_idx + interc_lows) and\n",
        "        prev_close < (sl_lows*prev_idx + interc_lows) and\n",
        "        curr_open < (sl_lows*curr_idx + interc_lows) and\n",
        "        curr_close < (sl_lows*prev_idx + interc_lows)): #and r_sq_l > 0.9\n",
        "        return 1\n",
        "\n",
        "    elif ( prev_low < (sl_highs*prev_idx + interc_highs) and\n",
        "        prev_close > (sl_highs*prev_idx + interc_highs) and\n",
        "        curr_open > (sl_highs*curr_idx + interc_highs) and\n",
        "        curr_close > (sl_highs*prev_idx + interc_highs)): #and r_sq_h > 0.9\n",
        "        return 2\n",
        "\n",
        "    else:\n",
        "        return 0"
      ]
    },
    {
      "cell_type": "code",
      "execution_count": 51,
      "id": "3adc64f8",
      "metadata": {
        "id": "3adc64f8"
      },
      "outputs": [],
      "source": [
        "def breakpointpos(x):\n",
        "    if x['isBreakOut']==2:\n",
        "        return x['Low']-3e-3\n",
        "    elif x['isBreakOut']==1:\n",
        "        return x['High']+3e-3\n",
        "    else:\n",
        "        return np.nan\n",
        "\n",
        "candle = 75\n",
        "backcandles = 40\n",
        "window = 3\n",
        "dfpl = df[candle-backcandles-window-5:candle+20]\n",
        "dfpl[\"isBreakOut\"] = [isBreakOut(candle, backcandles, window) for candle in dfpl.index]\n",
        "dfpl['breakpointpos'] = dfpl.apply(lambda row: breakpointpos(row), axis=1)"
      ]
    },
    {
      "cell_type": "code",
      "execution_count": 53,
      "id": "a6b5b35f",
      "metadata": {
        "colab": {
          "base_uri": "https://localhost:8080/",
          "height": 559
        },
        "id": "a6b5b35f",
        "outputId": "5aee752c-b9c2-488d-a177-57c2d15bd884"
      },
      "outputs": [
        {
          "output_type": "stream",
          "name": "stdout",
          "text": [
            "1.0 1.0\n"
          ]
        },
        {
          "output_type": "display_data",
          "data": {
            "text/html": [
              "<html>\n",
              "<head><meta charset=\"utf-8\" /></head>\n",
              "<body>\n",
              "    <div>            <script src=\"https://cdnjs.cloudflare.com/ajax/libs/mathjax/2.7.5/MathJax.js?config=TeX-AMS-MML_SVG\"></script><script type=\"text/javascript\">if (window.MathJax && window.MathJax.Hub && window.MathJax.Hub.Config) {window.MathJax.Hub.Config({SVG: {font: \"STIX-Web\"}});}</script>                <script type=\"text/javascript\">window.PlotlyConfig = {MathJaxConfig: 'local'};</script>\n",
              "        <script charset=\"utf-8\" src=\"https://cdn.plot.ly/plotly-2.35.2.min.js\"></script>                <div id=\"cc12bbfe-cff2-4789-b156-72b1b5a8d95f\" class=\"plotly-graph-div\" style=\"height:525px; width:100%;\"></div>            <script type=\"text/javascript\">                                    window.PLOTLYENV=window.PLOTLYENV || {};                                    if (document.getElementById(\"cc12bbfe-cff2-4789-b156-72b1b5a8d95f\")) {                    Plotly.newPlot(                        \"cc12bbfe-cff2-4789-b156-72b1b5a8d95f\",                        [{\"close\":[167.6,166.6,165.2,165.2,163.5,165.0,165.8,165.5,167.9,166.4,164.9,164.4,162.6,162.8,161.7,161.2,161.7,161.3,160.8,159.5,160.0,160.4,160.5,161.9,161.8,162.8,163.1,163.6,162.6,163.1,161.9,161.7,160.9,161.1,161.2,161.7,160.9,160.4,160.3,161.4,161.1,161.7,162.4,161.6,160.7,161.9,162.7,162.6,162.9,164.3,164.9,163.8,162.3,161.0,162.2,161.2,160.6,160.6,154.2,154.6,154.7,154.0,154.2,154.5,157.2,158.1,158.1,158.4],\"high\":[167.7,168.0,166.8,165.7,165.3,165.7,167.5,165.5,167.9,168.2,166.4,165.1,164.4,163.8,162.9,162.7,162.4,161.3,160.8,161.1,160.5,160.5,160.8,162.0,162.6,163.6,164.1,163.6,162.6,164.2,163.1,162.5,161.8,161.4,161.4,161.9,162.2,160.6,160.3,162.8,161.6,161.9,162.4,162.4,162.7,162.4,164.1,162.6,162.9,165.0,165.0,164.9,164.3,162.8,162.2,162.4,161.5,160.6,154.2,155.0,155.2,154.8,155.3,155.2,158.2,158.7,161.2,158.4],\"low\":[166.2,166.2,165.0,164.5,163.2,163.3,164.6,165.5,167.9,166.2,164.4,164.1,162.2,162.5,161.6,161.1,160.6,161.3,160.8,159.1,159.3,159.7,159.9,159.9,161.1,161.5,162.1,163.6,162.6,161.0,161.6,161.4,160.9,160.8,160.8,160.6,160.6,160.4,160.3,160.1,160.8,160.9,161.6,161.0,160.6,160.5,161.5,162.6,162.9,162.7,164.0,163.3,161.9,159.9,160.8,160.7,160.6,160.6,154.2,153.2,154.2,153.7,153.9,153.9,154.1,156.3,156.2,158.4],\"open\":[166.4,167.7,166.6,165.2,165.1,163.6,164.9,165.5,167.9,167.8,166.3,164.9,164.4,162.5,162.8,161.7,161.2,161.3,160.8,160.7,159.6,160.0,160.5,160.5,162.0,161.7,162.7,163.6,162.6,162.5,163.1,161.8,161.7,161.0,161.0,161.3,161.7,160.6,160.3,160.3,161.5,161.0,161.7,162.3,161.5,160.6,161.8,162.6,162.9,162.8,164.3,164.9,163.8,162.4,161.1,162.1,161.1,160.6,154.2,154.5,154.5,154.7,154.1,154.2,154.5,157.3,158.2,158.4],\"x\":[27,28,29,30,31,32,33,34,35,36,37,38,39,40,41,42,43,44,45,46,47,48,49,50,51,52,53,54,55,56,57,58,59,60,61,62,63,64,65,66,67,68,69,70,71,72,73,74,75,76,77,78,79,80,81,82,83,84,85,86,87,88,89,90,91,92,93,94],\"type\":\"candlestick\"},{\"marker\":{\"color\":\"MediumPurple\",\"size\":5},\"mode\":\"markers\",\"name\":\"pivot\",\"x\":[27,28,29,30,31,32,33,34,35,36,37,38,39,40,41,42,43,44,45,46,47,48,49,50,51,52,53,54,55,56,57,58,59,60,61,62,63,64,65,66,67,68,69,70,71,72,73,74,75,76,77,78,79,80,81,82,83,84,85,86,87,88,89,90,91,92,93,94],\"y\":[null,null,null,null,163.19899999999998,null,null,null,null,168.201,null,null,null,null,null,null,null,null,null,159.099,null,null,null,null,null,null,null,null,null,164.201,null,null,null,null,null,null,null,null,null,null,null,null,null,null,null,160.499,null,null,null,165.001,165.001,null,null,159.899,null,null,null,null,null,153.19899999999998,null,null,null,null,null,null,null,null],\"type\":\"scatter\"},{\"marker\":{\"color\":\"Black\",\"size\":8,\"symbol\":\"hexagram\"},\"mode\":\"markers\",\"name\":\"pivot\",\"x\":[27,28,29,30,31,32,33,34,35,36,37,38,39,40,41,42,43,44,45,46,47,48,49,50,51,52,53,54,55,56,57,58,59,60,61,62,63,64,65,66,67,68,69,70,71,72,73,74,75,76,77,78,79,80,81,82,83,84,85,86,87,88,89,90,91,92,93,94],\"y\":[null,null,null,null,null,null,null,null,null,null,null,null,null,null,null,null,null,null,null,null,null,null,null,null,null,null,null,null,null,null,null,null,null,null,null,null,null,null,null,null,null,null,null,null,null,null,161.497,null,null,null,null,null,null,null,null,null,null,null,null,null,null,null,null,null,null,null,null,null],\"type\":\"scatter\"},{\"mode\":\"lines\",\"name\":\"lower slope\",\"x\":[30,31,32,33,34,35,36,37,38,39,40,41,42,43,44,45,46,47,48,49,50,51,52,53,54,55,56,57,58,59,60,61,62,63,64,65,66,67,68,69,70,71,72,73],\"y\":[163.4733333333333,163.19999999999996,162.92666666666665,162.6533333333333,162.37999999999997,162.10666666666663,161.83333333333331,161.55999999999997,161.28666666666663,161.0133333333333,160.73999999999998,160.46666666666664,160.1933333333333,159.91999999999996,159.64666666666665,159.3733333333333,159.09999999999997,158.82666666666665,158.5533333333333,158.27999999999997,158.00666666666663,157.73333333333332,157.45999999999998,157.18666666666664,156.9133333333333,156.64,156.36666666666665,156.0933333333333,155.82,155.54666666666665,155.2733333333333,154.99999999999997,154.72666666666666,154.45333333333332,154.17999999999998,153.90666666666664,153.63333333333333,153.35999999999999,153.08666666666664,152.81333333333333,152.54,152.26666666666665,151.9933333333333,151.71999999999997],\"type\":\"scatter\"},{\"mode\":\"lines\",\"name\":\"max slope\",\"x\":[30,31,32,33,34,35,36,37,38,39,40,41,42,43,44,45,46,47,48,49,50,51,52,53,54,55,56,57,58,59,60,61,62,63,64,65,66,67,68,69,70,71,72,73],\"y\":[169.39999999999998,169.2,168.99999999999997,168.79999999999998,168.59999999999997,168.39999999999998,168.2,167.99999999999997,167.79999999999998,167.59999999999997,167.39999999999998,167.2,166.99999999999997,166.79999999999998,166.59999999999997,166.39999999999998,166.2,165.99999999999997,165.79999999999998,165.59999999999997,165.39999999999998,165.2,164.99999999999997,164.79999999999998,164.59999999999997,164.39999999999998,164.2,163.99999999999997,163.79999999999998,163.59999999999997,163.39999999999998,163.2,162.99999999999997,162.79999999999998,162.59999999999997,162.39999999999998,162.2,161.99999999999997,161.79999999999998,161.59999999999997,161.39999999999998,161.2,160.99999999999997,160.79999999999998],\"type\":\"scatter\"}],                        {\"template\":{\"data\":{\"histogram2dcontour\":[{\"type\":\"histogram2dcontour\",\"colorbar\":{\"outlinewidth\":0,\"ticks\":\"\"},\"colorscale\":[[0.0,\"#0d0887\"],[0.1111111111111111,\"#46039f\"],[0.2222222222222222,\"#7201a8\"],[0.3333333333333333,\"#9c179e\"],[0.4444444444444444,\"#bd3786\"],[0.5555555555555556,\"#d8576b\"],[0.6666666666666666,\"#ed7953\"],[0.7777777777777778,\"#fb9f3a\"],[0.8888888888888888,\"#fdca26\"],[1.0,\"#f0f921\"]]}],\"choropleth\":[{\"type\":\"choropleth\",\"colorbar\":{\"outlinewidth\":0,\"ticks\":\"\"}}],\"histogram2d\":[{\"type\":\"histogram2d\",\"colorbar\":{\"outlinewidth\":0,\"ticks\":\"\"},\"colorscale\":[[0.0,\"#0d0887\"],[0.1111111111111111,\"#46039f\"],[0.2222222222222222,\"#7201a8\"],[0.3333333333333333,\"#9c179e\"],[0.4444444444444444,\"#bd3786\"],[0.5555555555555556,\"#d8576b\"],[0.6666666666666666,\"#ed7953\"],[0.7777777777777778,\"#fb9f3a\"],[0.8888888888888888,\"#fdca26\"],[1.0,\"#f0f921\"]]}],\"heatmap\":[{\"type\":\"heatmap\",\"colorbar\":{\"outlinewidth\":0,\"ticks\":\"\"},\"colorscale\":[[0.0,\"#0d0887\"],[0.1111111111111111,\"#46039f\"],[0.2222222222222222,\"#7201a8\"],[0.3333333333333333,\"#9c179e\"],[0.4444444444444444,\"#bd3786\"],[0.5555555555555556,\"#d8576b\"],[0.6666666666666666,\"#ed7953\"],[0.7777777777777778,\"#fb9f3a\"],[0.8888888888888888,\"#fdca26\"],[1.0,\"#f0f921\"]]}],\"heatmapgl\":[{\"type\":\"heatmapgl\",\"colorbar\":{\"outlinewidth\":0,\"ticks\":\"\"},\"colorscale\":[[0.0,\"#0d0887\"],[0.1111111111111111,\"#46039f\"],[0.2222222222222222,\"#7201a8\"],[0.3333333333333333,\"#9c179e\"],[0.4444444444444444,\"#bd3786\"],[0.5555555555555556,\"#d8576b\"],[0.6666666666666666,\"#ed7953\"],[0.7777777777777778,\"#fb9f3a\"],[0.8888888888888888,\"#fdca26\"],[1.0,\"#f0f921\"]]}],\"contourcarpet\":[{\"type\":\"contourcarpet\",\"colorbar\":{\"outlinewidth\":0,\"ticks\":\"\"}}],\"contour\":[{\"type\":\"contour\",\"colorbar\":{\"outlinewidth\":0,\"ticks\":\"\"},\"colorscale\":[[0.0,\"#0d0887\"],[0.1111111111111111,\"#46039f\"],[0.2222222222222222,\"#7201a8\"],[0.3333333333333333,\"#9c179e\"],[0.4444444444444444,\"#bd3786\"],[0.5555555555555556,\"#d8576b\"],[0.6666666666666666,\"#ed7953\"],[0.7777777777777778,\"#fb9f3a\"],[0.8888888888888888,\"#fdca26\"],[1.0,\"#f0f921\"]]}],\"surface\":[{\"type\":\"surface\",\"colorbar\":{\"outlinewidth\":0,\"ticks\":\"\"},\"colorscale\":[[0.0,\"#0d0887\"],[0.1111111111111111,\"#46039f\"],[0.2222222222222222,\"#7201a8\"],[0.3333333333333333,\"#9c179e\"],[0.4444444444444444,\"#bd3786\"],[0.5555555555555556,\"#d8576b\"],[0.6666666666666666,\"#ed7953\"],[0.7777777777777778,\"#fb9f3a\"],[0.8888888888888888,\"#fdca26\"],[1.0,\"#f0f921\"]]}],\"mesh3d\":[{\"type\":\"mesh3d\",\"colorbar\":{\"outlinewidth\":0,\"ticks\":\"\"}}],\"scatter\":[{\"fillpattern\":{\"fillmode\":\"overlay\",\"size\":10,\"solidity\":0.2},\"type\":\"scatter\"}],\"parcoords\":[{\"type\":\"parcoords\",\"line\":{\"colorbar\":{\"outlinewidth\":0,\"ticks\":\"\"}}}],\"scatterpolargl\":[{\"type\":\"scatterpolargl\",\"marker\":{\"colorbar\":{\"outlinewidth\":0,\"ticks\":\"\"}}}],\"bar\":[{\"error_x\":{\"color\":\"#2a3f5f\"},\"error_y\":{\"color\":\"#2a3f5f\"},\"marker\":{\"line\":{\"color\":\"#E5ECF6\",\"width\":0.5},\"pattern\":{\"fillmode\":\"overlay\",\"size\":10,\"solidity\":0.2}},\"type\":\"bar\"}],\"scattergeo\":[{\"type\":\"scattergeo\",\"marker\":{\"colorbar\":{\"outlinewidth\":0,\"ticks\":\"\"}}}],\"scatterpolar\":[{\"type\":\"scatterpolar\",\"marker\":{\"colorbar\":{\"outlinewidth\":0,\"ticks\":\"\"}}}],\"histogram\":[{\"marker\":{\"pattern\":{\"fillmode\":\"overlay\",\"size\":10,\"solidity\":0.2}},\"type\":\"histogram\"}],\"scattergl\":[{\"type\":\"scattergl\",\"marker\":{\"colorbar\":{\"outlinewidth\":0,\"ticks\":\"\"}}}],\"scatter3d\":[{\"type\":\"scatter3d\",\"line\":{\"colorbar\":{\"outlinewidth\":0,\"ticks\":\"\"}},\"marker\":{\"colorbar\":{\"outlinewidth\":0,\"ticks\":\"\"}}}],\"scattermapbox\":[{\"type\":\"scattermapbox\",\"marker\":{\"colorbar\":{\"outlinewidth\":0,\"ticks\":\"\"}}}],\"scatterternary\":[{\"type\":\"scatterternary\",\"marker\":{\"colorbar\":{\"outlinewidth\":0,\"ticks\":\"\"}}}],\"scattercarpet\":[{\"type\":\"scattercarpet\",\"marker\":{\"colorbar\":{\"outlinewidth\":0,\"ticks\":\"\"}}}],\"carpet\":[{\"aaxis\":{\"endlinecolor\":\"#2a3f5f\",\"gridcolor\":\"white\",\"linecolor\":\"white\",\"minorgridcolor\":\"white\",\"startlinecolor\":\"#2a3f5f\"},\"baxis\":{\"endlinecolor\":\"#2a3f5f\",\"gridcolor\":\"white\",\"linecolor\":\"white\",\"minorgridcolor\":\"white\",\"startlinecolor\":\"#2a3f5f\"},\"type\":\"carpet\"}],\"table\":[{\"cells\":{\"fill\":{\"color\":\"#EBF0F8\"},\"line\":{\"color\":\"white\"}},\"header\":{\"fill\":{\"color\":\"#C8D4E3\"},\"line\":{\"color\":\"white\"}},\"type\":\"table\"}],\"barpolar\":[{\"marker\":{\"line\":{\"color\":\"#E5ECF6\",\"width\":0.5},\"pattern\":{\"fillmode\":\"overlay\",\"size\":10,\"solidity\":0.2}},\"type\":\"barpolar\"}],\"pie\":[{\"automargin\":true,\"type\":\"pie\"}]},\"layout\":{\"autotypenumbers\":\"strict\",\"colorway\":[\"#636efa\",\"#EF553B\",\"#00cc96\",\"#ab63fa\",\"#FFA15A\",\"#19d3f3\",\"#FF6692\",\"#B6E880\",\"#FF97FF\",\"#FECB52\"],\"font\":{\"color\":\"#2a3f5f\"},\"hovermode\":\"closest\",\"hoverlabel\":{\"align\":\"left\"},\"paper_bgcolor\":\"white\",\"plot_bgcolor\":\"#E5ECF6\",\"polar\":{\"bgcolor\":\"#E5ECF6\",\"angularaxis\":{\"gridcolor\":\"white\",\"linecolor\":\"white\",\"ticks\":\"\"},\"radialaxis\":{\"gridcolor\":\"white\",\"linecolor\":\"white\",\"ticks\":\"\"}},\"ternary\":{\"bgcolor\":\"#E5ECF6\",\"aaxis\":{\"gridcolor\":\"white\",\"linecolor\":\"white\",\"ticks\":\"\"},\"baxis\":{\"gridcolor\":\"white\",\"linecolor\":\"white\",\"ticks\":\"\"},\"caxis\":{\"gridcolor\":\"white\",\"linecolor\":\"white\",\"ticks\":\"\"}},\"coloraxis\":{\"colorbar\":{\"outlinewidth\":0,\"ticks\":\"\"}},\"colorscale\":{\"sequential\":[[0.0,\"#0d0887\"],[0.1111111111111111,\"#46039f\"],[0.2222222222222222,\"#7201a8\"],[0.3333333333333333,\"#9c179e\"],[0.4444444444444444,\"#bd3786\"],[0.5555555555555556,\"#d8576b\"],[0.6666666666666666,\"#ed7953\"],[0.7777777777777778,\"#fb9f3a\"],[0.8888888888888888,\"#fdca26\"],[1.0,\"#f0f921\"]],\"sequentialminus\":[[0.0,\"#0d0887\"],[0.1111111111111111,\"#46039f\"],[0.2222222222222222,\"#7201a8\"],[0.3333333333333333,\"#9c179e\"],[0.4444444444444444,\"#bd3786\"],[0.5555555555555556,\"#d8576b\"],[0.6666666666666666,\"#ed7953\"],[0.7777777777777778,\"#fb9f3a\"],[0.8888888888888888,\"#fdca26\"],[1.0,\"#f0f921\"]],\"diverging\":[[0,\"#8e0152\"],[0.1,\"#c51b7d\"],[0.2,\"#de77ae\"],[0.3,\"#f1b6da\"],[0.4,\"#fde0ef\"],[0.5,\"#f7f7f7\"],[0.6,\"#e6f5d0\"],[0.7,\"#b8e186\"],[0.8,\"#7fbc41\"],[0.9,\"#4d9221\"],[1,\"#276419\"]]},\"xaxis\":{\"gridcolor\":\"white\",\"linecolor\":\"white\",\"ticks\":\"\",\"title\":{\"standoff\":15},\"zerolinecolor\":\"white\",\"automargin\":true,\"zerolinewidth\":2},\"yaxis\":{\"gridcolor\":\"white\",\"linecolor\":\"white\",\"ticks\":\"\",\"title\":{\"standoff\":15},\"zerolinecolor\":\"white\",\"automargin\":true,\"zerolinewidth\":2},\"scene\":{\"xaxis\":{\"backgroundcolor\":\"#E5ECF6\",\"gridcolor\":\"white\",\"linecolor\":\"white\",\"showbackground\":true,\"ticks\":\"\",\"zerolinecolor\":\"white\",\"gridwidth\":2},\"yaxis\":{\"backgroundcolor\":\"#E5ECF6\",\"gridcolor\":\"white\",\"linecolor\":\"white\",\"showbackground\":true,\"ticks\":\"\",\"zerolinecolor\":\"white\",\"gridwidth\":2},\"zaxis\":{\"backgroundcolor\":\"#E5ECF6\",\"gridcolor\":\"white\",\"linecolor\":\"white\",\"showbackground\":true,\"ticks\":\"\",\"zerolinecolor\":\"white\",\"gridwidth\":2}},\"shapedefaults\":{\"line\":{\"color\":\"#2a3f5f\"}},\"annotationdefaults\":{\"arrowcolor\":\"#2a3f5f\",\"arrowhead\":0,\"arrowwidth\":1},\"geo\":{\"bgcolor\":\"white\",\"landcolor\":\"#E5ECF6\",\"subunitcolor\":\"white\",\"showland\":true,\"showlakes\":true,\"lakecolor\":\"white\"},\"title\":{\"x\":0.05},\"mapbox\":{\"style\":\"light\"}}}},                        {\"responsive\": true}                    ).then(function(){\n",
              "                            \n",
              "var gd = document.getElementById('cc12bbfe-cff2-4789-b156-72b1b5a8d95f');\n",
              "var x = new MutationObserver(function (mutations, observer) {{\n",
              "        var display = window.getComputedStyle(gd).display;\n",
              "        if (!display || display === 'none') {{\n",
              "            console.log([gd, 'removed!']);\n",
              "            Plotly.purge(gd);\n",
              "            observer.disconnect();\n",
              "        }}\n",
              "}});\n",
              "\n",
              "// Listen for the removal of the full notebook cells\n",
              "var notebookContainer = gd.closest('#notebook-container');\n",
              "if (notebookContainer) {{\n",
              "    x.observe(notebookContainer, {childList: true});\n",
              "}}\n",
              "\n",
              "// Listen for the clearing of the current output cell\n",
              "var outputEl = gd.closest('.output');\n",
              "if (outputEl) {{\n",
              "    x.observe(outputEl, {childList: true});\n",
              "}}\n",
              "\n",
              "                        })                };                            </script>        </div>\n",
              "</body>\n",
              "</html>"
            ]
          },
          "metadata": {}
        }
      ],
      "source": [
        "candle = 73\n",
        "\n",
        "fig = go.Figure(data=[go.Candlestick(x=dfpl.index,\n",
        "                open=dfpl['Open'],\n",
        "                high=dfpl['High'],\n",
        "                low=dfpl['Low'],\n",
        "                close=dfpl['Close'])])\n",
        "\n",
        "fig.add_scatter(x=dfpl.index, y=dfpl['pointpos'], mode=\"markers\",\n",
        "                marker=dict(size=5, color=\"MediumPurple\"),\n",
        "                name=\"pivot\")\n",
        "\n",
        "fig.add_scatter(x=dfpl.index, y=dfpl['breakpointpos'], mode=\"markers\",\n",
        "                marker=dict(size=8, color=\"Black\"), marker_symbol=\"hexagram\",\n",
        "                name=\"Break out\")\n",
        "\n",
        "sl_lows, interc_lows, sl_highs, interc_highs, r_sq_l, r_sq_h = collect_channel(candle, backcandles, window)\n",
        "print(r_sq_l, r_sq_h)\n",
        "x = np.array(range(candle-backcandles-window, candle+1))\n",
        "fig.add_trace(go.Scatter(x=x, y=sl_lows*x + interc_lows, mode='lines', name='lower slope'))\n",
        "fig.add_trace(go.Scatter(x=x, y=sl_highs*x + interc_highs, mode='lines', name='max slope'))\n",
        "#fig.update_layout(xaxis_rangeslider_visible=False)\n",
        "fig.show()"
      ]
    },
    {
      "cell_type": "code",
      "execution_count": null,
      "id": "a477c63a",
      "metadata": {
        "id": "a477c63a"
      },
      "outputs": [],
      "source": []
    }
  ],
  "metadata": {
    "kernelspec": {
      "display_name": "Python 3 (ipykernel)",
      "language": "python",
      "name": "python3"
    },
    "language_info": {
      "codemirror_mode": {
        "name": "ipython",
        "version": 3
      },
      "file_extension": ".py",
      "mimetype": "text/x-python",
      "name": "python",
      "nbconvert_exporter": "python",
      "pygments_lexer": "ipython3",
      "version": "3.7.3"
    },
    "colab": {
      "provenance": [],
      "include_colab_link": true
    }
  },
  "nbformat": 4,
  "nbformat_minor": 5
}